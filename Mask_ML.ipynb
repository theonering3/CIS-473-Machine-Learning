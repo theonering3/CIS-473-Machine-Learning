{
 "cells": [
  {
   "cell_type": "code",
   "execution_count": 2,
   "id": "0db6ebd2",
   "metadata": {},
   "outputs": [],
   "source": [
    "import pandas as pd\n",
    "import numpy as np\n",
    "import os\n",
    "#import cv2\n",
    "import timm\n",
    "import time\n",
    "import torch\n",
    "import torchvision\n",
    "import skimage\n",
    "#import wandb\n",
    "#import hiplot\n",
    "#import neptune.new as neptune\n",
    "import torch.nn as nn\n",
    "import torch.nn.functional as F\n",
    "import torch.optim as optim\n",
    "#import matplotlib.pyplot as plt\n",
    "import torchvision.transforms as transforms\n",
    "from tqdm import tqdm\n",
    "#from PIL import Image\n",
    "#from torchsummary import summary\n",
    "#from torch.utils.tensorboard import SummaryWriter\n",
    "from torch.utils.data import DataLoader\n",
    "from torch.utils.data import Dataset\n",
    "from torchvision.transforms import ToTensor\n",
    "from sklearn.model_selection import train_test_split\n",
    "from sklearn.preprocessing import StandardScaler"
   ]
  },
  {
   "cell_type": "code",
   "execution_count": 3,
   "id": "57d01a89",
   "metadata": {},
   "outputs": [],
   "source": [
    "#Define DataSet class for the use of DataLoader class\n",
    "\n",
    "class MaskDataset(Dataset):\n",
    "    def __init__(self,labeldir,imgdir,transform):\n",
    "        self.labeldata=pd.read_csv(labeldir)\n",
    "        self.rootdir= imgdir\n",
    "        self.transform=transform\n",
    "    def __getitem__(self,index):\n",
    "        img_path=os.path.join(self.rootdir,self.labeldata.iloc[index,0])\n",
    "        image=skimage.io.imread(img_path)\n",
    "        image=self.transform(image)\n",
    "        label=torch.tensor(self.labeldata.iloc[index,1])\n",
    "        return image,label\n",
    "    def __len__(self):\n",
    "        return self.labeldata.shape[0]"
   ]
  },
  {
   "cell_type": "code",
   "execution_count": 4,
   "id": "149419d6",
   "metadata": {
    "scrolled": true
   },
   "outputs": [
    {
     "data": {
      "text/plain": [
       "4999"
      ]
     },
     "execution_count": 4,
     "metadata": {},
     "output_type": "execute_result"
    }
   ],
   "source": [
    "#Loading Data\n",
    "\n",
    "trainlabel=\"D:\\\\python\\\\CIS473\\\\CIS-473-Machine-Learning\\\\mask_data\\\\labels\\\\train_label.csv\"\n",
    "traindir=\"D:\\\\python\\\\CIS473\\\\CIS-473-Machine-Learning\\\\mask_data\\\\traindata\\\\\"\n",
    "testlabel=\"D:\\\\python\\\\CIS473\\\\CIS-473-Machine-Learning\\\\mask_data\\\\labels\\\\test_label.csv\"\n",
    "testdir=\"D:\\\\python\\\\CIS473\\\\CIS-473-Machine-Learning\\\\mask_data\\\\testdata\\\\\"\n",
    "\n",
    "#Data Augmentation - # Hyperparameter\n",
    "transform=transforms.Compose([\n",
    "    transforms.ToPILImage(),\n",
    "    transforms.Resize(256),\n",
    "    transforms.CenterCrop(256),\n",
    "    transforms.ToTensor(),\n",
    "])\n",
    "\n",
    "batch_size=1\n",
    "traindata=MaskDataset(trainlabel,traindir,transform)\n",
    "train=DataLoader(dataset=traindata,batch_size=batch_size,shuffle=True)\n",
    "testdata=MaskDataset(testlabel,testdir,transform)\n",
    "test=DataLoader(dataset=testdata,batch_size=batch_size,shuffle=True)\n",
    "iter(train).next()[0].shape"
   ]
  },
  {
   "cell_type": "code",
   "execution_count": 13,
   "id": "0d0545bb",
   "metadata": {},
   "outputs": [],
   "source": [
    "# Define Model\n",
    "device=torch.device(\"cuda\")\n",
    "\n",
    "res34 = timm.create_model('resnet34')\n",
    "res34.fc=nn.Linear(512,2)\n",
    "res34.add_module(\"Sig\",nn.Softmax())\n",
    "res34 = res34.to(device)\n",
    "\n",
    "# Loss Function - Hyperparameter\n",
    "LossFunction = nn.CrossEntropyLoss()\n",
    "\n",
    "\n",
    "#print(res34)\n",
    "#summary(res34,(3,256,256))\n",
    "\n",
    "class ConvolutionNet(nn.Module):\n",
    "    def __init__(self):\n",
    "        super().__init__()\n",
    "        self.conv = nn.Sequential(            \n",
    "            nn.Conv2d(3,20,3), #254\n",
    "            nn.BatchNorm2d(20),\n",
    "            nn.ReLU(),\n",
    "            nn.Conv2d(20,50,3,stride=2), #127\n",
    "            nn.BatchNorm2d(50),\n",
    "            nn.ReLU(),\n",
    "            nn.Conv2d(50,150,4), #124\n",
    "            nn.BatchNorm2d(150),\n",
    "            nn.ReLU(),\n",
    "            nn.Conv2d(150,250,3,stride=2),#62\n",
    "            nn.BatchNorm2d(250),\n",
    "            nn.ReLU(),\n",
    "            nn.Conv2d(250,400,3), #60\n",
    "            nn.BatchNorm2d(400),\n",
    "            nn.ReLU(),\n",
    "            nn.Conv2d(400,512,3,stride=2), #29\n",
    "            nn.BatchNorm2d(512),\n",
    "            nn.ReLU(),\n",
    "        )\n",
    "        self.feature_size=512*29*29\n",
    "        self.linear = nn.Sequential(\n",
    "            nn.Linear(self.feature_size,200),\n",
    "            nn.ReLU(),\n",
    "            nn.Linear(200,500),\n",
    "            nn.ReLU(),\n",
    "            nn.Linear(500,1000),\n",
    "            nn.ReLU(),\n",
    "            nn.Linear(1000,500),\n",
    "            nn.ReLU(),\n",
    "            nn.Linear(500,100),\n",
    "            nn.ReLU(),\n",
    "            nn.Linear(100,2),\n",
    "        )\n",
    "    def forward(self,x_train):\n",
    "        out=self.conv(x_train)\n",
    "        out=out.view(batch_size,self.feature_size)\n",
    "        out=self.linear(out)\n",
    "        return out\n",
    "    \n",
    "conv=ConvolutionNet().to(device)"
   ]
  },
  {
   "cell_type": "code",
   "execution_count": 17,
   "id": "8f9fd672",
   "metadata": {
    "scrolled": true
   },
   "outputs": [
    {
     "name": "stderr",
     "output_type": "stream",
     "text": [
      "Epoch:   0%|\u001b[38;2;38;182;156m                                                                                    \u001b[0m| 0/10 [00:00<?, ?it/s]\u001b[0m\n",
      "  0%|\u001b[38;2;38;182;156m                                                                                         \u001b[0m| 0/4999 [00:00<?, ?it/s]\u001b[0m\u001b[A\n",
      " 23%|\u001b[38;2;38;182;156m██████████████████                                                            \u001b[0m| 1158/4999 [00:30<01:39, 38.59it/s]\u001b[0m\u001b[A\n",
      " 23%|\u001b[38;2;38;182;156m██████████████████                                                            \u001b[0m| 1158/4999 [00:47<01:39, 38.59it/s]\u001b[0m\u001b[A\n",
      " 48%|\u001b[38;2;38;182;156m█████████████████████████████████████▎                                        \u001b[0m| 2391/4999 [01:00<01:05, 40.06it/s]\u001b[0m\u001b[A\n",
      " 48%|\u001b[38;2;38;182;156m█████████████████████████████████████▎                                        \u001b[0m| 2391/4999 [01:17<01:05, 40.06it/s]\u001b[0m\u001b[A\n",
      " 72%|\u001b[38;2;38;182;156m████████████████████████████████████████████████████████▎                     \u001b[0m| 3610/4999 [01:30<00:34, 40.32it/s]\u001b[0m\u001b[A\n",
      " 72%|\u001b[38;2;38;182;156m████████████████████████████████████████████████████████▎                     \u001b[0m| 3610/4999 [01:47<00:34, 40.32it/s]\u001b[0m\u001b[A\n",
      "100%|\u001b[38;2;38;182;156m██████████████████████████████████████████████████████████████████████████████\u001b[0m| 4999/4999 [02:05<00:00, 39.97it/s]\u001b[0m\u001b[A\n",
      "Epoch:  10%|\u001b[38;2;38;182;156m███████▌                                                                   \u001b[0m| 1/10 [02:05<18:45, 125.08s/it]\u001b[0m"
     ]
    },
    {
     "name": "stdout",
     "output_type": "stream",
     "text": [
      "Epoch 0: loss: 1.1920928244535389e-07\n"
     ]
    },
    {
     "name": "stderr",
     "output_type": "stream",
     "text": [
      "\n",
      "  0%|\u001b[38;2;38;182;156m                                                                                         \u001b[0m| 0/4999 [00:00<?, ?it/s]\u001b[0m\u001b[A\n",
      " 24%|\u001b[38;2;38;182;156m██████████████████▉                                                           \u001b[0m| 1217/4999 [00:30<01:33, 40.54it/s]\u001b[0m\u001b[A\n",
      " 24%|\u001b[38;2;38;182;156m██████████████████▉                                                           \u001b[0m| 1217/4999 [00:42<01:33, 40.54it/s]\u001b[0m\u001b[A\n",
      " 49%|\u001b[38;2;38;182;156m██████████████████████████████████████                                        \u001b[0m| 2439/4999 [01:00<01:02, 40.65it/s]\u001b[0m\u001b[A\n",
      " 49%|\u001b[38;2;38;182;156m██████████████████████████████████████                                        \u001b[0m| 2439/4999 [01:12<01:02, 40.65it/s]\u001b[0m\u001b[A\n",
      " 73%|\u001b[38;2;38;182;156m████████████████████████████████████████████████████████▊                     \u001b[0m| 3639/4999 [01:30<00:33, 40.34it/s]\u001b[0m\u001b[A\n",
      " 73%|\u001b[38;2;38;182;156m████████████████████████████████████████████████████████▊                     \u001b[0m| 3639/4999 [01:42<00:33, 40.34it/s]\u001b[0m\u001b[A\n",
      "100%|\u001b[38;2;38;182;156m██████████████████████████████████████████████████████████████████████████████\u001b[0m| 4999/4999 [02:04<00:00, 40.31it/s]\u001b[0m\u001b[A\n",
      "Epoch:  20%|\u001b[38;2;38;182;156m███████████████                                                            \u001b[0m| 2/10 [04:09<16:35, 124.45s/it]\u001b[0m"
     ]
    },
    {
     "name": "stdout",
     "output_type": "stream",
     "text": [
      "Epoch 1: loss: 9.500529267825186e-05\n"
     ]
    },
    {
     "name": "stderr",
     "output_type": "stream",
     "text": [
      "\n",
      "  0%|\u001b[38;2;38;182;156m                                                                                         \u001b[0m| 0/4999 [00:00<?, ?it/s]\u001b[0m\u001b[A\n",
      " 25%|\u001b[38;2;38;182;156m███████████████████▏                                                          \u001b[0m| 1231/4999 [00:30<01:31, 41.02it/s]\u001b[0m\u001b[A\n",
      " 25%|\u001b[38;2;38;182;156m███████████████████▏                                                          \u001b[0m| 1231/4999 [00:48<01:31, 41.02it/s]\u001b[0m\u001b[A\n",
      " 49%|\u001b[38;2;38;182;156m█████████████████████████████████████▉                                        \u001b[0m| 2433/4999 [01:00<01:03, 40.44it/s]\u001b[0m\u001b[A\n",
      " 49%|\u001b[38;2;38;182;156m█████████████████████████████████████▉                                        \u001b[0m| 2433/4999 [01:18<01:03, 40.44it/s]\u001b[0m\u001b[A\n",
      " 72%|\u001b[38;2;38;182;156m████████████████████████████████████████████████████████▍                     \u001b[0m| 3619/4999 [01:30<00:34, 40.02it/s]\u001b[0m\u001b[A\n",
      " 72%|\u001b[38;2;38;182;156m████████████████████████████████████████████████████████▍                     \u001b[0m| 3619/4999 [01:48<00:34, 40.02it/s]\u001b[0m\u001b[A\n",
      "100%|\u001b[38;2;38;182;156m██████████████████████████████████████████████████████████████████████████████\u001b[0m| 4999/4999 [02:04<00:00, 40.20it/s]\u001b[0m\u001b[A\n",
      "Epoch:  30%|\u001b[38;2;38;182;156m██████████████████████▌                                                    \u001b[0m| 3/10 [06:13<14:30, 124.41s/it]\u001b[0m"
     ]
    },
    {
     "name": "stdout",
     "output_type": "stream",
     "text": [
      "Epoch 2: loss: 0.0\n"
     ]
    },
    {
     "name": "stderr",
     "output_type": "stream",
     "text": [
      "\n",
      "  0%|\u001b[38;2;38;182;156m                                                                                         \u001b[0m| 0/4999 [00:00<?, ?it/s]\u001b[0m\u001b[A\n",
      " 25%|\u001b[38;2;38;182;156m███████████████████▏                                                          \u001b[0m| 1232/4999 [00:30<01:31, 41.05it/s]\u001b[0m\u001b[A\n",
      " 25%|\u001b[38;2;38;182;156m███████████████████▏                                                          \u001b[0m| 1232/4999 [00:44<01:31, 41.05it/s]\u001b[0m\u001b[A\n",
      " 49%|\u001b[38;2;38;182;156m██████████████████████████████████████▍                                       \u001b[0m| 2463/4999 [01:00<01:01, 41.03it/s]\u001b[0m\u001b[A\n",
      " 49%|\u001b[38;2;38;182;156m██████████████████████████████████████▍                                       \u001b[0m| 2463/4999 [01:14<01:01, 41.03it/s]\u001b[0m\u001b[A\n",
      " 73%|\u001b[38;2;38;182;156m█████████████████████████████████████████████████████████                     \u001b[0m| 3655/4999 [01:30<00:33, 40.44it/s]\u001b[0m\u001b[A\n",
      " 73%|\u001b[38;2;38;182;156m█████████████████████████████████████████████████████████                     \u001b[0m| 3655/4999 [01:44<00:33, 40.44it/s]\u001b[0m\u001b[A\n",
      "100%|\u001b[38;2;38;182;156m██████████████████████████████████████████████████████████████████████████████\u001b[0m| 4999/4999 [02:03<00:00, 40.51it/s]\u001b[0m\u001b[A\n",
      "Epoch:  40%|\u001b[38;2;38;182;156m██████████████████████████████                                             \u001b[0m| 4/10 [08:16<12:24, 124.01s/it]\u001b[0m"
     ]
    },
    {
     "name": "stdout",
     "output_type": "stream",
     "text": [
      "Epoch 3: loss: 0.0004345426568761468\n"
     ]
    },
    {
     "name": "stderr",
     "output_type": "stream",
     "text": [
      "\n",
      "  0%|\u001b[38;2;38;182;156m                                                                                         \u001b[0m| 0/4999 [00:00<?, ?it/s]\u001b[0m\u001b[A\n",
      " 24%|\u001b[38;2;38;182;156m██████████████████▋                                                           \u001b[0m| 1199/4999 [00:30<01:35, 39.94it/s]\u001b[0m\u001b[A\n",
      " 24%|\u001b[38;2;38;182;156m██████████████████▋                                                           \u001b[0m| 1199/4999 [00:40<01:35, 39.94it/s]\u001b[0m\u001b[A\n",
      " 49%|\u001b[38;2;38;182;156m█████████████████████████████████████▉                                        \u001b[0m| 2432/4999 [01:00<01:03, 40.61it/s]\u001b[0m\u001b[A\n",
      " 49%|\u001b[38;2;38;182;156m█████████████████████████████████████▉                                        \u001b[0m| 2432/4999 [01:10<01:03, 40.61it/s]\u001b[0m\u001b[A\n",
      " 72%|\u001b[38;2;38;182;156m████████████████████████████████████████████████████████▍                     \u001b[0m| 3615/4999 [01:30<00:34, 40.07it/s]\u001b[0m\u001b[A\n",
      " 72%|\u001b[38;2;38;182;156m████████████████████████████████████████████████████████▍                     \u001b[0m| 3615/4999 [01:40<00:34, 40.07it/s]\u001b[0m\u001b[A\n",
      "100%|\u001b[38;2;38;182;156m██████████████████████████████████████████████████████████████████████████████\u001b[0m| 4999/4999 [02:04<00:00, 40.20it/s]\u001b[0m\u001b[A\n",
      "Epoch:  50%|\u001b[38;2;38;182;156m█████████████████████████████████████▌                                     \u001b[0m| 5/10 [10:21<10:20, 124.13s/it]\u001b[0m"
     ]
    },
    {
     "name": "stdout",
     "output_type": "stream",
     "text": [
      "Epoch 4: loss: 0.0\n"
     ]
    },
    {
     "name": "stderr",
     "output_type": "stream",
     "text": [
      "\n",
      "  0%|\u001b[38;2;38;182;156m                                                                                         \u001b[0m| 0/4999 [00:00<?, ?it/s]\u001b[0m\u001b[A\n",
      " 25%|\u001b[38;2;38;182;156m███████████████████▏                                                          \u001b[0m| 1229/4999 [00:30<01:32, 40.94it/s]\u001b[0m\u001b[A\n",
      " 25%|\u001b[38;2;38;182;156m███████████████████▏                                                          \u001b[0m| 1229/4999 [00:46<01:32, 40.94it/s]\u001b[0m\u001b[A\n",
      " 49%|\u001b[38;2;38;182;156m██████████████████████████████████████▍                                       \u001b[0m| 2462/4999 [01:00<01:01, 41.03it/s]\u001b[0m\u001b[A\n",
      " 49%|\u001b[38;2;38;182;156m██████████████████████████████████████▍                                       \u001b[0m| 2462/4999 [01:16<01:01, 41.03it/s]\u001b[0m\u001b[A\n",
      " 73%|\u001b[38;2;38;182;156m████████████████████████████████████████████████████████▋                     \u001b[0m| 3637/4999 [01:30<00:33, 40.17it/s]\u001b[0m\u001b[A\n",
      " 73%|\u001b[38;2;38;182;156m████████████████████████████████████████████████████████▋                     \u001b[0m| 3637/4999 [01:46<00:33, 40.17it/s]\u001b[0m\u001b[A\n",
      "100%|\u001b[38;2;38;182;156m██████████████████████████████████████████████████████████████████████████████\u001b[0m| 4999/4999 [02:03<00:00, 40.52it/s]\u001b[0m\u001b[A\n",
      "Epoch:  60%|\u001b[38;2;38;182;156m█████████████████████████████████████████████                              \u001b[0m| 6/10 [12:24<08:15, 123.87s/it]\u001b[0m"
     ]
    },
    {
     "name": "stdout",
     "output_type": "stream",
     "text": [
      "Epoch 5: loss: 9.536738616588991e-07\n"
     ]
    },
    {
     "name": "stderr",
     "output_type": "stream",
     "text": [
      "\n",
      "  0%|\u001b[38;2;38;182;156m                                                                                         \u001b[0m| 0/4999 [00:00<?, ?it/s]\u001b[0m\u001b[A\n",
      " 25%|\u001b[38;2;38;182;156m███████████████████▏                                                          \u001b[0m| 1231/4999 [00:30<01:31, 41.03it/s]\u001b[0m\u001b[A\n",
      " 25%|\u001b[38;2;38;182;156m███████████████████▏                                                          \u001b[0m| 1231/4999 [00:43<01:31, 41.03it/s]\u001b[0m\u001b[A\n",
      " 49%|\u001b[38;2;38;182;156m██████████████████████████████████████▍                                       \u001b[0m| 2463/4999 [01:00<01:01, 41.04it/s]\u001b[0m\u001b[A\n",
      " 49%|\u001b[38;2;38;182;156m██████████████████████████████████████▍                                       \u001b[0m| 2463/4999 [01:13<01:01, 41.04it/s]\u001b[0m\u001b[A\n",
      " 73%|\u001b[38;2;38;182;156m████████████████████████████████████████████████████████▊                     \u001b[0m| 3638/4999 [01:30<00:33, 40.18it/s]\u001b[0m\u001b[A\n",
      " 73%|\u001b[38;2;38;182;156m████████████████████████████████████████████████████████▊                     \u001b[0m| 3638/4999 [01:43<00:33, 40.18it/s]\u001b[0m\u001b[A\n",
      "100%|\u001b[38;2;38;182;156m██████████████████████████████████████████████████████████████████████████████\u001b[0m| 4999/4999 [02:03<00:00, 40.60it/s]\u001b[0m\u001b[A\n",
      "Epoch:  70%|\u001b[38;2;38;182;156m████████████████████████████████████████████████████▌                      \u001b[0m| 7/10 [14:27<06:10, 123.63s/it]\u001b[0m"
     ]
    },
    {
     "name": "stdout",
     "output_type": "stream",
     "text": [
      "Epoch 6: loss: 0.0\n"
     ]
    },
    {
     "name": "stderr",
     "output_type": "stream",
     "text": [
      "\n",
      "  0%|\u001b[38;2;38;182;156m                                                                                         \u001b[0m| 0/4999 [00:00<?, ?it/s]\u001b[0m\u001b[A\n",
      " 25%|\u001b[38;2;38;182;156m███████████████████▏                                                          \u001b[0m| 1232/4999 [00:30<01:31, 41.05it/s]\u001b[0m\u001b[A\n",
      " 25%|\u001b[38;2;38;182;156m███████████████████▏                                                          \u001b[0m| 1232/4999 [00:40<01:31, 41.05it/s]\u001b[0m\u001b[A\n",
      " 49%|\u001b[38;2;38;182;156m██████████████████████████████████████▎                                       \u001b[0m| 2459/4999 [01:00<01:02, 40.95it/s]\u001b[0m\u001b[A\n",
      " 49%|\u001b[38;2;38;182;156m██████████████████████████████████████▎                                       \u001b[0m| 2459/4999 [01:10<01:02, 40.95it/s]\u001b[0m\u001b[A\n",
      " 73%|\u001b[38;2;38;182;156m████████████████████████████████████████████████████████▊                     \u001b[0m| 3639/4999 [01:30<00:33, 40.20it/s]\u001b[0m\u001b[A\n",
      " 73%|\u001b[38;2;38;182;156m████████████████████████████████████████████████████████▊                     \u001b[0m| 3639/4999 [01:40<00:33, 40.20it/s]\u001b[0m\u001b[A\n",
      "100%|\u001b[38;2;38;182;156m██████████████████████████████████████████████████████████████████████████████\u001b[0m| 4999/4999 [02:03<00:00, 40.58it/s]\u001b[0m\u001b[A\n",
      "Epoch:  80%|\u001b[38;2;38;182;156m████████████████████████████████████████████████████████████               \u001b[0m| 8/10 [16:30<04:06, 123.49s/it]\u001b[0m"
     ]
    },
    {
     "name": "stdout",
     "output_type": "stream",
     "text": [
      "Epoch 7: loss: 0.0\n"
     ]
    },
    {
     "name": "stderr",
     "output_type": "stream",
     "text": [
      "\n",
      "  0%|\u001b[38;2;38;182;156m                                                                                         \u001b[0m| 0/4999 [00:00<?, ?it/s]\u001b[0m\u001b[A\n",
      " 25%|\u001b[38;2;38;182;156m███████████████████▏                                                          \u001b[0m| 1226/4999 [00:30<01:32, 40.84it/s]\u001b[0m\u001b[A\n",
      " 25%|\u001b[38;2;38;182;156m███████████████████▏                                                          \u001b[0m| 1226/4999 [00:46<01:32, 40.84it/s]\u001b[0m\u001b[A\n",
      " 49%|\u001b[38;2;38;182;156m██████████████████████████████████████▏                                       \u001b[0m| 2451/4999 [01:00<01:02, 40.82it/s]\u001b[0m\u001b[A\n",
      " 49%|\u001b[38;2;38;182;156m██████████████████████████████████████▏                                       \u001b[0m| 2451/4999 [01:17<01:02, 40.82it/s]\u001b[0m\u001b[A\n",
      " 73%|\u001b[38;2;38;182;156m████████████████████████████████████████████████████████▊                     \u001b[0m| 3639/4999 [01:30<00:33, 40.26it/s]\u001b[0m\u001b[A\n",
      " 73%|\u001b[38;2;38;182;156m████████████████████████████████████████████████████████▊                     \u001b[0m| 3639/4999 [01:47<00:33, 40.26it/s]\u001b[0m\u001b[A\n",
      "100%|\u001b[38;2;38;182;156m██████████████████████████████████████████████████████████████████████████████\u001b[0m| 4999/4999 [02:03<00:00, 40.60it/s]\u001b[0m\u001b[A\n",
      "Epoch:  90%|\u001b[38;2;38;182;156m███████████████████████████████████████████████████████████████████▌       \u001b[0m| 9/10 [18:34<02:03, 123.38s/it]\u001b[0m"
     ]
    },
    {
     "name": "stdout",
     "output_type": "stream",
     "text": [
      "Epoch 8: loss: 5.960462772236497e-07\n"
     ]
    },
    {
     "name": "stderr",
     "output_type": "stream",
     "text": [
      "\n",
      "  0%|\u001b[38;2;38;182;156m                                                                                         \u001b[0m| 0/4999 [00:00<?, ?it/s]\u001b[0m\u001b[A\n",
      " 25%|\u001b[38;2;38;182;156m███████████████████▏                                                          \u001b[0m| 1229/4999 [00:30<01:32, 40.95it/s]\u001b[0m\u001b[A\n",
      " 25%|\u001b[38;2;38;182;156m███████████████████▏                                                          \u001b[0m| 1229/4999 [00:43<01:32, 40.95it/s]\u001b[0m\u001b[A\n",
      " 49%|\u001b[38;2;38;182;156m██████████████████████████████████████▏                                       \u001b[0m| 2446/4999 [01:00<01:02, 40.72it/s]\u001b[0m\u001b[A\n",
      " 49%|\u001b[38;2;38;182;156m██████████████████████████████████████▏                                       \u001b[0m| 2446/4999 [01:13<01:02, 40.72it/s]\u001b[0m\u001b[A\n",
      " 73%|\u001b[38;2;38;182;156m████████████████████████████████████████████████████████▊                     \u001b[0m| 3643/4999 [01:30<00:33, 40.34it/s]\u001b[0m\u001b[A\n",
      " 73%|\u001b[38;2;38;182;156m████████████████████████████████████████████████████████▊                     \u001b[0m| 3643/4999 [01:43<00:33, 40.34it/s]\u001b[0m\u001b[A\n",
      "100%|\u001b[38;2;38;182;156m██████████████████████████████████████████████████████████████████████████████\u001b[0m| 4999/4999 [02:03<00:00, 40.63it/s]\u001b[0m\u001b[A\n",
      "Epoch: 100%|\u001b[38;2;38;182;156m██████████████████████████████████████████████████████████████████████████\u001b[0m| 10/10 [20:37<00:00, 123.71s/it]\u001b[0m"
     ]
    },
    {
     "name": "stdout",
     "output_type": "stream",
     "text": [
      "Epoch 9: loss: 0.0\n"
     ]
    },
    {
     "name": "stderr",
     "output_type": "stream",
     "text": [
      "\n"
     ]
    }
   ],
   "source": [
    "#Training Model\n",
    "\n",
    "nepochs=10\n",
    "#Learning Rate - # Hyperparameter\n",
    "learning_rate=0.01\n",
    "loss_history = []\n",
    "\n",
    "#Optimization Method # Hyperparameter\n",
    "optimizer = optim.SGD(conv.parameters(), lr=learning_rate)\n",
    "\n",
    "for epoch in tqdm(range(nepochs),desc=\"Epoch\",colour=\"#26B69C\"):\n",
    "    for data,label in tqdm(train,colour=\"#26B69C\",mininterval=30):\n",
    "        \n",
    "        optimizer.zero_grad()\n",
    "        data = data.to(device)\n",
    "        label=label.to(device)\n",
    "        out = conv(data)\n",
    "        #print(out,label)\n",
    "        loss = LossFunction(out,label)\n",
    "        loss.backward()\n",
    "        optimizer.step()\n",
    "        loss_history.append(loss.item())\n",
    "    print(f\"Epoch {epoch}: loss: {loss.item()}\")"
   ]
  },
  {
   "cell_type": "code",
   "execution_count": 19,
   "id": "8d31c69b",
   "metadata": {
    "scrolled": true
   },
   "outputs": [
    {
     "name": "stderr",
     "output_type": "stream",
     "text": [
      "100%|\u001b[38;2;38;182;156m█████████████████████████████████████████████████████████████████████████████\u001b[0m| 1999/1999 [00:18<00:00, 106.06it/s]\u001b[0m"
     ]
    },
    {
     "name": "stdout",
     "output_type": "stream",
     "text": [
      "Accuracy: 0.857\n",
      "1708 1992\n"
     ]
    },
    {
     "name": "stderr",
     "output_type": "stream",
     "text": [
      "\n"
     ]
    }
   ],
   "source": [
    "#Testing Model\n",
    "\n",
    "correct=0\n",
    "total=0\n",
    "with torch.no_grad():\n",
    "    for data,label in tqdm(test,colour=\"#26B69C\",mininterval=20):\n",
    "        data = data.to(device)\n",
    "        label=label.to(device)\n",
    "        if data.shape==torch.Size([1, 3, 256, 256]):\n",
    "            out=conv(data)\n",
    "            pred=torch.argmax(out)\n",
    "            if pred==label:\n",
    "                correct+=1\n",
    "            total+=1\n",
    "print(\"Accuracy:\",round(correct/total,3))\n",
    "print(correct,total)"
   ]
  },
  {
   "cell_type": "code",
   "execution_count": 20,
   "id": "77e720fe",
   "metadata": {},
   "outputs": [],
   "source": [
    "#Save Model\n",
    "\n",
    "FILE=\"D:\\\\python\\\\CIS473\\\\CIS-473-Machine-Learning\\\\mask_data\\\\models\\\\model.pth\"\n",
    "torch.save(conv,FILE)"
   ]
  },
  {
   "cell_type": "code",
   "execution_count": null,
   "id": "143f46b3",
   "metadata": {},
   "outputs": [],
   "source": []
  }
 ],
 "metadata": {
  "kernelspec": {
   "display_name": "Python 3 (ipykernel)",
   "language": "python",
   "name": "python3"
  },
  "language_info": {
   "codemirror_mode": {
    "name": "ipython",
    "version": 3
   },
   "file_extension": ".py",
   "mimetype": "text/x-python",
   "name": "python",
   "nbconvert_exporter": "python",
   "pygments_lexer": "ipython3",
   "version": "3.9.9"
  },
  "varInspector": {
   "cols": {
    "lenName": 16,
    "lenType": 16,
    "lenVar": 40
   },
   "kernels_config": {
    "python": {
     "delete_cmd_postfix": "",
     "delete_cmd_prefix": "del ",
     "library": "var_list.py",
     "varRefreshCmd": "print(var_dic_list())"
    },
    "r": {
     "delete_cmd_postfix": ") ",
     "delete_cmd_prefix": "rm(",
     "library": "var_list.r",
     "varRefreshCmd": "cat(var_dic_list()) "
    }
   },
   "types_to_exclude": [
    "module",
    "function",
    "builtin_function_or_method",
    "instance",
    "_Feature"
   ],
   "window_display": false
  }
 },
 "nbformat": 4,
 "nbformat_minor": 5
}

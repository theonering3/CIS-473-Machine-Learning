{
 "cells": [
  {
   "cell_type": "code",
   "execution_count": 1,
   "id": "0db6ebd2",
   "metadata": {},
   "outputs": [],
   "source": [
    "import pandas as pd\n",
    "import numpy as np\n",
    "import os\n",
    "import cv2\n",
    "import timm\n",
    "import time\n",
    "import torch\n",
    "import torchvision\n",
    "import skimage\n",
    "import wandb\n",
    "import hiplot\n",
    "import neptune.new as neptune\n",
    "import torch.nn as nn\n",
    "import torch.nn.functional as F\n",
    "import torch.optim as optim\n",
    "import matplotlib.pyplot as plt\n",
    "import torchvision.transforms as transforms\n",
    "from tqdm import tqdm\n",
    "from PIL import Image\n",
    "from torchsummary import summary\n",
    "from torch.utils.tensorboard import SummaryWriter\n",
    "from torchvision.datasets import CIFAR10\n",
    "from torch.utils.data import DataLoader\n",
    "from torch.utils.data import Dataset\n",
    "from torchvision.transforms import ToTensor\n",
    "from sklearn.model_selection import train_test_split\n",
    "from sklearn.preprocessing import StandardScaler"
   ]
  },
  {
   "cell_type": "code",
   "execution_count": 2,
   "id": "57d01a89",
   "metadata": {},
   "outputs": [],
   "source": [
    "class MaskDataset(Dataset):\n",
    "    def __init__(self,labeldir,imgdir,transform):\n",
    "        self.labeldata=pd.read_csv(labeldir)\n",
    "        self.rootdir= imgdir\n",
    "        self.transform=transform\n",
    "    def __getitem__(self,index):\n",
    "        img_path=os.path.join(self.rootdir,self.labeldata.iloc[index,0])\n",
    "        image=skimage.io.imread(img_path)\n",
    "        image=self.transform(image)\n",
    "        label=torch.tensor(self.labeldata.iloc[index,1])\n",
    "        return image,label\n",
    "    def __len__(self):\n",
    "        return self.labeldata.shape[0]"
   ]
  },
  {
   "cell_type": "code",
   "execution_count": 7,
   "id": "149419d6",
   "metadata": {
    "scrolled": true
   },
   "outputs": [
    {
     "data": {
      "text/plain": [
       "1999"
      ]
     },
     "execution_count": 7,
     "metadata": {},
     "output_type": "execute_result"
    }
   ],
   "source": [
    "trainlabel=\"D:\\\\python\\\\CIS473\\\\CIS-473-Machine-Learning\\\\mask_data\\\\labels\\\\train_label.csv\"\n",
    "traindir=\"D:\\\\python\\\\CIS473\\\\CIS-473-Machine-Learning\\\\mask_data\\\\traindata\\\\\"\n",
    "testlabel=\"D:\\\\python\\\\CIS473\\\\CIS-473-Machine-Learning\\\\mask_data\\\\labels\\\\test_label.csv\"\n",
    "testdir=\"D:\\\\python\\\\CIS473\\\\CIS-473-Machine-Learning\\\\mask_data\\\\testdata\\\\\"\n",
    "\n",
    "transform=transforms.Compose([\n",
    "    transforms.ToPILImage(),\n",
    "    transforms.Resize(256),\n",
    "    transforms.CenterCrop(256),\n",
    "    transforms.ToTensor(),\n",
    "])\n",
    "batch_size=1\n",
    "traindata=MaskDataset(trainlabel,traindir,transform)\n",
    "train=DataLoader(dataset=traindata,batch_size=batch_size,shuffle=True)\n",
    "testdata=MaskDataset(testlabel,testdir,transform)\n",
    "test=DataLoader(dataset=testdata,batch_size=batch_size,shuffle=True)\n",
    "#iter(train).next()[0].shape"
   ]
  },
  {
   "cell_type": "code",
   "execution_count": 5,
   "id": "0d0545bb",
   "metadata": {},
   "outputs": [],
   "source": [
    "device=torch.device(\"cuda\")\n",
    "nepochs=10\n",
    "learning_rate=0.01\n",
    "\n",
    "res34 = timm.create_model('resnet34')\n",
    "res34.fc=nn.Linear(512,2)\n",
    "res34.add_module(\"Sig\",nn.Softmax())\n",
    "res34 = res34.to(device)\n",
    "LossFunction = nn.CrossEntropyLoss()"
   ]
  },
  {
   "cell_type": "code",
   "execution_count": 8,
   "id": "8f9fd672",
   "metadata": {
    "scrolled": true
   },
   "outputs": [
    {
     "name": "stderr",
     "output_type": "stream",
     "text": [
      "Epoch:   0%|\u001b[38;2;38;182;156m                                                                                    \u001b[0m| 0/10 [00:00<?, ?it/s]\u001b[0m\n",
      "  0%|\u001b[38;2;38;182;156m                                                                                         \u001b[0m| 0/4999 [00:00<?, ?it/s]\u001b[0m\u001b[A\n",
      " 30%|\u001b[38;2;38;182;156m███████████████████████                                                       \u001b[0m| 1479/4999 [00:30<01:11, 49.29it/s]\u001b[0m\u001b[A\n",
      " 30%|\u001b[38;2;38;182;156m███████████████████████                                                       \u001b[0m| 1479/4999 [00:40<01:11, 49.29it/s]\u001b[0m\u001b[A\n",
      " 64%|\u001b[38;2;38;182;156m█████████████████████████████████████████████████▌                            \u001b[0m| 3175/4999 [01:00<00:34, 53.53it/s]\u001b[0m\u001b[A\n",
      " 64%|\u001b[38;2;38;182;156m█████████████████████████████████████████████████▌                            \u001b[0m| 3175/4999 [01:10<00:34, 53.53it/s]\u001b[0m\u001b[A\n",
      "100%|\u001b[38;2;38;182;156m██████████████████████████████████████████████████████████████████████████████\u001b[0m| 4999/4999 [01:31<00:00, 54.49it/s]\u001b[0m\u001b[A\n",
      "Epoch:  10%|\u001b[38;2;38;182;156m███████▌                                                                    \u001b[0m| 1/10 [01:31<13:45, 91.74s/it]\u001b[0m"
     ]
    },
    {
     "name": "stdout",
     "output_type": "stream",
     "text": [
      "Epoch 0: loss: 0.9074983596801758\n"
     ]
    },
    {
     "name": "stderr",
     "output_type": "stream",
     "text": [
      "\n",
      "  0%|\u001b[38;2;38;182;156m                                                                                         \u001b[0m| 0/4999 [00:00<?, ?it/s]\u001b[0m\u001b[A\n",
      " 35%|\u001b[38;2;38;182;156m███████████████████████████▍                                                  \u001b[0m| 1758/4999 [00:30<00:55, 58.60it/s]\u001b[0m\u001b[A\n",
      " 35%|\u001b[38;2;38;182;156m███████████████████████████▍                                                  \u001b[0m| 1758/4999 [00:48<00:55, 58.60it/s]\u001b[0m\u001b[A\n",
      " 68%|\u001b[38;2;38;182;156m█████████████████████████████████████████████████████▏                        \u001b[0m| 3409/4999 [01:00<00:28, 56.48it/s]\u001b[0m\u001b[A\n",
      "100%|\u001b[38;2;38;182;156m██████████████████████████████████████████████████████████████████████████████\u001b[0m| 4999/4999 [01:29<00:00, 55.97it/s]\u001b[0m\u001b[A\n",
      "Epoch:  20%|\u001b[38;2;38;182;156m███████████████▏                                                            \u001b[0m| 2/10 [03:01<12:02, 90.32s/it]\u001b[0m"
     ]
    },
    {
     "name": "stdout",
     "output_type": "stream",
     "text": [
      "Epoch 1: loss: 0.014398251660168171\n"
     ]
    },
    {
     "name": "stderr",
     "output_type": "stream",
     "text": [
      "\n",
      "  0%|\u001b[38;2;38;182;156m                                                                                         \u001b[0m| 0/4999 [00:00<?, ?it/s]\u001b[0m\u001b[A\n",
      " 34%|\u001b[38;2;38;182;156m██████████████████████████▋                                                   \u001b[0m| 1707/4999 [00:30<00:57, 56.89it/s]\u001b[0m\u001b[A\n",
      " 34%|\u001b[38;2;38;182;156m██████████████████████████▋                                                   \u001b[0m| 1707/4999 [00:49<00:57, 56.89it/s]\u001b[0m\u001b[A\n",
      " 68%|\u001b[38;2;38;182;156m█████████████████████████████████████████████████████                         \u001b[0m| 3401/4999 [01:00<00:28, 56.63it/s]\u001b[0m\u001b[A\n",
      "100%|\u001b[38;2;38;182;156m██████████████████████████████████████████████████████████████████████████████\u001b[0m| 4999/4999 [01:28<00:00, 56.21it/s]\u001b[0m\u001b[A\n",
      "Epoch:  30%|\u001b[38;2;38;182;156m██████████████████████▊                                                     \u001b[0m| 3/10 [04:30<10:27, 89.69s/it]\u001b[0m"
     ]
    },
    {
     "name": "stdout",
     "output_type": "stream",
     "text": [
      "Epoch 2: loss: 0.01744474656879902\n"
     ]
    },
    {
     "name": "stderr",
     "output_type": "stream",
     "text": [
      "\n",
      "  0%|\u001b[38;2;38;182;156m                                                                                         \u001b[0m| 0/4999 [00:00<?, ?it/s]\u001b[0m\u001b[A\n",
      " 34%|\u001b[38;2;38;182;156m██████████████████████████▏                                                   \u001b[0m| 1681/4999 [00:30<00:59, 56.03it/s]\u001b[0m\u001b[A\n",
      " 34%|\u001b[38;2;38;182;156m██████████████████████████▏                                                   \u001b[0m| 1681/4999 [00:40<00:59, 56.03it/s]\u001b[0m\u001b[A\n",
      " 67%|\u001b[38;2;38;182;156m███████████████████████████████████████████████████▉                          \u001b[0m| 3327/4999 [01:00<00:30, 55.34it/s]\u001b[0m\u001b[A\n",
      "100%|\u001b[38;2;38;182;156m██████████████████████████████████████████████████████████████████████████████\u001b[0m| 4999/4999 [01:28<00:00, 56.71it/s]\u001b[0m\u001b[A\n",
      "Epoch:  40%|\u001b[38;2;38;182;156m██████████████████████████████▍                                             \u001b[0m| 4/10 [05:58<08:54, 89.08s/it]\u001b[0m"
     ]
    },
    {
     "name": "stdout",
     "output_type": "stream",
     "text": [
      "Epoch 3: loss: 0.04925946518778801\n"
     ]
    },
    {
     "name": "stderr",
     "output_type": "stream",
     "text": [
      "\n",
      "  0%|\u001b[38;2;38;182;156m                                                                                         \u001b[0m| 0/4999 [00:00<?, ?it/s]\u001b[0m\u001b[A\n",
      " 36%|\u001b[38;2;38;182;156m████████████████████████████▏                                                 \u001b[0m| 1809/4999 [00:30<00:52, 60.28it/s]\u001b[0m\u001b[A\n",
      " 36%|\u001b[38;2;38;182;156m████████████████████████████▏                                                 \u001b[0m| 1809/4999 [00:42<00:52, 60.28it/s]\u001b[0m\u001b[A\n",
      " 72%|\u001b[38;2;38;182;156m████████████████████████████████████████████████████████                      \u001b[0m| 3592/4999 [01:00<00:23, 59.77it/s]\u001b[0m\u001b[A\n",
      "100%|\u001b[38;2;38;182;156m██████████████████████████████████████████████████████████████████████████████\u001b[0m| 4999/4999 [01:23<00:00, 59.76it/s]\u001b[0m\u001b[A\n",
      "Epoch:  50%|\u001b[38;2;38;182;156m██████████████████████████████████████                                      \u001b[0m| 5/10 [07:21<07:15, 87.12s/it]\u001b[0m"
     ]
    },
    {
     "name": "stdout",
     "output_type": "stream",
     "text": [
      "Epoch 4: loss: 0.00020251607929822057\n"
     ]
    },
    {
     "name": "stderr",
     "output_type": "stream",
     "text": [
      "\n",
      "  0%|\u001b[38;2;38;182;156m                                                                                         \u001b[0m| 0/4999 [00:00<?, ?it/s]\u001b[0m\u001b[A\n",
      " 36%|\u001b[38;2;38;182;156m███████████████████████████▊                                                  \u001b[0m| 1785/4999 [00:30<00:54, 59.47it/s]\u001b[0m\u001b[A\n",
      " 36%|\u001b[38;2;38;182;156m███████████████████████████▊                                                  \u001b[0m| 1785/4999 [00:48<00:54, 59.47it/s]\u001b[0m\u001b[A\n",
      " 70%|\u001b[38;2;38;182;156m██████████████████████████████████████████████████████▊                       \u001b[0m| 3515/4999 [01:00<00:25, 58.39it/s]\u001b[0m\u001b[A\n",
      "100%|\u001b[38;2;38;182;156m██████████████████████████████████████████████████████████████████████████████\u001b[0m| 4999/4999 [01:26<00:00, 57.71it/s]\u001b[0m\u001b[A\n",
      "Epoch:  60%|\u001b[38;2;38;182;156m█████████████████████████████████████████████▌                              \u001b[0m| 6/10 [08:48<05:47, 86.95s/it]\u001b[0m"
     ]
    },
    {
     "name": "stdout",
     "output_type": "stream",
     "text": [
      "Epoch 5: loss: 0.00015221867943182588\n"
     ]
    },
    {
     "name": "stderr",
     "output_type": "stream",
     "text": [
      "\n",
      "  0%|\u001b[38;2;38;182;156m                                                                                         \u001b[0m| 0/4999 [00:00<?, ?it/s]\u001b[0m\u001b[A\n",
      " 34%|\u001b[38;2;38;182;156m██████████████████████████▍                                                   \u001b[0m| 1697/4999 [00:30<00:58, 56.57it/s]\u001b[0m\u001b[A\n",
      " 34%|\u001b[38;2;38;182;156m██████████████████████████▍                                                   \u001b[0m| 1697/4999 [00:42<00:58, 56.57it/s]\u001b[0m\u001b[A\n",
      " 69%|\u001b[38;2;38;182;156m██████████████████████████████████████████████████████                        \u001b[0m| 3467/4999 [01:00<00:26, 57.98it/s]\u001b[0m\u001b[A\n",
      "100%|\u001b[38;2;38;182;156m██████████████████████████████████████████████████████████████████████████████\u001b[0m| 4999/4999 [01:25<00:00, 58.52it/s]\u001b[0m\u001b[A\n",
      "Epoch:  70%|\u001b[38;2;38;182;156m█████████████████████████████████████████████████████▏                      \u001b[0m| 7/10 [10:13<04:19, 86.45s/it]\u001b[0m"
     ]
    },
    {
     "name": "stdout",
     "output_type": "stream",
     "text": [
      "Epoch 6: loss: 5.9602869441732764e-05\n"
     ]
    },
    {
     "name": "stderr",
     "output_type": "stream",
     "text": [
      "\n",
      "  0%|\u001b[38;2;38;182;156m                                                                                         \u001b[0m| 0/4999 [00:00<?, ?it/s]\u001b[0m\u001b[A\n",
      " 36%|\u001b[38;2;38;182;156m████████████████████████████                                                  \u001b[0m| 1796/4999 [00:30<00:53, 59.86it/s]\u001b[0m\u001b[A\n",
      " 36%|\u001b[38;2;38;182;156m████████████████████████████                                                  \u001b[0m| 1796/4999 [00:46<00:53, 59.86it/s]\u001b[0m\u001b[A\n",
      " 71%|\u001b[38;2;38;182;156m███████████████████████████████████████████████████████▌                      \u001b[0m| 3560/4999 [01:00<00:24, 59.22it/s]\u001b[0m\u001b[A\n",
      "100%|\u001b[38;2;38;182;156m██████████████████████████████████████████████████████████████████████████████\u001b[0m| 4999/4999 [01:24<00:00, 59.30it/s]\u001b[0m\u001b[A\n",
      "Epoch:  80%|\u001b[38;2;38;182;156m████████████████████████████████████████████████████████████▊               \u001b[0m| 8/10 [11:38<02:51, 85.77s/it]\u001b[0m"
     ]
    },
    {
     "name": "stdout",
     "output_type": "stream",
     "text": [
      "Epoch 7: loss: 0.00014804698002990335\n"
     ]
    },
    {
     "name": "stderr",
     "output_type": "stream",
     "text": [
      "\n",
      "  0%|\u001b[38;2;38;182;156m                                                                                         \u001b[0m| 0/4999 [00:00<?, ?it/s]\u001b[0m\u001b[A\n",
      " 36%|\u001b[38;2;38;182;156m████████████████████████████                                                  \u001b[0m| 1798/4999 [00:30<00:53, 59.91it/s]\u001b[0m\u001b[A\n",
      " 36%|\u001b[38;2;38;182;156m████████████████████████████                                                  \u001b[0m| 1798/4999 [00:42<00:53, 59.91it/s]\u001b[0m\u001b[A\n",
      " 69%|\u001b[38;2;38;182;156m██████████████████████████████████████████████████████▏                       \u001b[0m| 3472/4999 [01:00<00:26, 57.48it/s]\u001b[0m\u001b[A\n",
      "100%|\u001b[38;2;38;182;156m██████████████████████████████████████████████████████████████████████████████\u001b[0m| 4999/4999 [01:25<00:00, 58.29it/s]\u001b[0m\u001b[A\n",
      "Epoch:  90%|\u001b[38;2;38;182;156m████████████████████████████████████████████████████████████████████▍       \u001b[0m| 9/10 [13:03<01:25, 85.77s/it]\u001b[0m"
     ]
    },
    {
     "name": "stdout",
     "output_type": "stream",
     "text": [
      "Epoch 8: loss: 0.003333846339955926\n"
     ]
    },
    {
     "name": "stderr",
     "output_type": "stream",
     "text": [
      "\n",
      "  0%|\u001b[38;2;38;182;156m                                                                                         \u001b[0m| 0/4999 [00:00<?, ?it/s]\u001b[0m\u001b[A\n",
      " 35%|\u001b[38;2;38;182;156m███████████████████████████▌                                                  \u001b[0m| 1767/4999 [00:30<00:54, 58.90it/s]\u001b[0m\u001b[A\n",
      " 35%|\u001b[38;2;38;182;156m███████████████████████████▌                                                  \u001b[0m| 1767/4999 [00:46<00:54, 58.90it/s]\u001b[0m\u001b[A\n",
      " 71%|\u001b[38;2;38;182;156m███████████████████████████████████████████████████████                       \u001b[0m| 3531/4999 [01:00<00:24, 58.84it/s]\u001b[0m\u001b[A\n",
      "100%|\u001b[38;2;38;182;156m██████████████████████████████████████████████████████████████████████████████\u001b[0m| 4999/4999 [01:25<00:00, 58.38it/s]\u001b[0m\u001b[A\n",
      "Epoch: 100%|\u001b[38;2;38;182;156m███████████████████████████████████████████████████████████████████████████\u001b[0m| 10/10 [14:29<00:00, 86.96s/it]\u001b[0m"
     ]
    },
    {
     "name": "stdout",
     "output_type": "stream",
     "text": [
      "Epoch 9: loss: 0.00020323118951637298\n"
     ]
    },
    {
     "name": "stderr",
     "output_type": "stream",
     "text": [
      "\n"
     ]
    }
   ],
   "source": [
    "loss_history = []\n",
    "optimizer = optim.SGD(res34.parameters(), lr=learning_rate)\n",
    "for epoch in tqdm(range(nepochs),desc=\"Epoch\",colour=\"#26B69C\"):\n",
    "    for data,label in tqdm(train,colour=\"#26B69C\",mininterval=30):\n",
    "        \n",
    "        optimizer.zero_grad()\n",
    "        data = data.to(device)\n",
    "        label=label.to(device)\n",
    "        out = res34(data)\n",
    "        #print(out,label)\n",
    "        loss = LossFunction(out,label)\n",
    "        loss.backward()\n",
    "        optimizer.step()\n",
    "        loss_history.append(loss.item())\n",
    "    print(f\"Epoch {epoch}: loss: {loss.item()}\")"
   ]
  },
  {
   "cell_type": "code",
   "execution_count": 27,
   "id": "8d31c69b",
   "metadata": {},
   "outputs": [
    {
     "name": "stderr",
     "output_type": "stream",
     "text": [
      "100%|\u001b[38;2;38;182;156m██████████████████████████████████████████████████████████████████████████████\u001b[0m| 1999/1999 [00:25<00:00, 79.01it/s]\u001b[0m"
     ]
    },
    {
     "name": "stdout",
     "output_type": "stream",
     "text": [
      "Accuracy: 0.935\n",
      "1863 1992\n"
     ]
    },
    {
     "name": "stderr",
     "output_type": "stream",
     "text": [
      "\n"
     ]
    }
   ],
   "source": [
    "correct=0\n",
    "total=0\n",
    "with torch.no_grad():\n",
    "    for data,label in tqdm(test,colour=\"#26B69C\",mininterval=20):\n",
    "        data = data.to(device)\n",
    "        label=label.to(device)\n",
    "        if data.shape==torch.Size([1, 3, 256, 256]):\n",
    "            out=res34(data)\n",
    "            pred=torch.argmax(out)\n",
    "            if pred==label:\n",
    "                correct+=1\n",
    "            total+=1\n",
    "print(\"Accuracy:\",round(correct/total,3))\n",
    "print(correct,total)"
   ]
  },
  {
   "cell_type": "code",
   "execution_count": 14,
   "id": "d05e13bc",
   "metadata": {},
   "outputs": [],
   "source": [
    "FILE=\"D:\\\\python\\\\CIS473\\\\CIS-473-Machine-Learning\\\\mask_data\\\\models\\\\model.pth\"\n",
    "torch.save(res34,FILE)"
   ]
  },
  {
   "cell_type": "code",
   "execution_count": null,
   "id": "580f0668",
   "metadata": {},
   "outputs": [],
   "source": []
  }
 ],
 "metadata": {
  "kernelspec": {
   "display_name": "Python 3 (ipykernel)",
   "language": "python",
   "name": "python3"
  },
  "language_info": {
   "codemirror_mode": {
    "name": "ipython",
    "version": 3
   },
   "file_extension": ".py",
   "mimetype": "text/x-python",
   "name": "python",
   "nbconvert_exporter": "python",
   "pygments_lexer": "ipython3",
   "version": "3.9.9"
  },
  "varInspector": {
   "cols": {
    "lenName": 16,
    "lenType": 16,
    "lenVar": 40
   },
   "kernels_config": {
    "python": {
     "delete_cmd_postfix": "",
     "delete_cmd_prefix": "del ",
     "library": "var_list.py",
     "varRefreshCmd": "print(var_dic_list())"
    },
    "r": {
     "delete_cmd_postfix": ") ",
     "delete_cmd_prefix": "rm(",
     "library": "var_list.r",
     "varRefreshCmd": "cat(var_dic_list()) "
    }
   },
   "types_to_exclude": [
    "module",
    "function",
    "builtin_function_or_method",
    "instance",
    "_Feature"
   ],
   "window_display": false
  }
 },
 "nbformat": 4,
 "nbformat_minor": 5
}

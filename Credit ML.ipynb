{
 "cells": [
  {
   "cell_type": "code",
   "execution_count": 13,
   "id": "579a9805",
   "metadata": {},
   "outputs": [],
   "source": [
    "# Various Imports\n",
    "\n",
    "import pandas as pd\n",
    "import numpy as np\n",
    "import torch\n",
    "import torchvision\n",
    "import torch.nn as nn\n",
    "import torch.nn.functional as F\n",
    "import torch.optim as optim\n",
    "import matplotlib.pyplot as plt\n",
    "from tqdm import tqdm\n",
    "from time import sleep\n",
    "from torch.utils.data import DataLoader\n",
    "from torch.utils.data import Dataset\n",
    "from torchvision.transforms import ToTensor\n",
    "from sklearn.model_selection import train_test_split\n",
    "from sklearn.preprocessing import StandardScaler"
   ]
  },
  {
   "cell_type": "code",
   "execution_count": 14,
   "id": "21973f45",
   "metadata": {},
   "outputs": [
    {
     "name": "stderr",
     "output_type": "stream",
     "text": [
      "Pre-processing Data: 100%|\u001b[38;2;53;175;146m███████████████████████████████████████████████████████████████\u001b[0m| 1/1 [00:01<00:00,  1.70s/it]\u001b[0m\n"
     ]
    }
   ],
   "source": [
    "# Preprocessing Data \n",
    "\n",
    "for i in tqdm(range(0, 1), desc =\"Pre-processing Data\", colour=\"#35AF92\"):\n",
    "    data=pd.read_csv(\"D:/chrome download/credit data/application_train.csv\",skiprows=1).dropna()\n",
    "    data=pd.get_dummies(data)\n",
    "    sdtr=StandardScaler()\n",
    "    x_train,x_test,y_train,y_test=train_test_split(data.iloc[1:1000,2:],data.iloc[1:1000,1],test_size=0.2,random_state=0)\n",
    "        \n",
    "    x_train=sdtr.fit_transform(x_train)\n",
    "    x_test=sdtr.transform(x_test)\n",
    "\n",
    "    y_train=y_train.to_numpy()\n",
    "    y_test=y_test.to_numpy()\n",
    "\n",
    "    x_train=torch.from_numpy(x_train.astype(np.float32))\n",
    "    y_train=torch.from_numpy(y_train.astype(np.float32))\n",
    "    x_test=torch.from_numpy(x_test.astype(np.float32))\n",
    "    y_test=torch.from_numpy(y_test.astype(np.float32))\n",
    "\n",
    "    y_train=y_train.view(y_train.shape[0],1)\n",
    "    y_test=y_test.view(y_test.shape[0],1)"
   ]
  },
  {
   "cell_type": "code",
   "execution_count": 15,
   "id": "c41f091f",
   "metadata": {},
   "outputs": [],
   "source": [
    "# Defining Dataset\n",
    "\n",
    "class CreditTrainDataset(Dataset):\n",
    "    def __init__(self,x_train,y_train):   \n",
    "        self.x_train=x_train\n",
    "        self.y_train=y_train\n",
    "        \n",
    "    def __getitem__(self,index):\n",
    "        return self.x_train[index],self.y_train[index]\n",
    "    \n",
    "    def __len__(self):\n",
    "        return self.x_train.shape[0]\n",
    "\n",
    "    \n",
    "class CreditTestDataset(Dataset):\n",
    "    def __init__(self,x_test,y_test):\n",
    "        self.x_test=x_test\n",
    "        self.y_test=y_test\n",
    "        \n",
    "    def __getitem__(self,index):\n",
    "        return self.x_test[index],self.y_test[index]\n",
    "    \n",
    "    def __len__(self):\n",
    "        return self.x_test.shape[0]\n",
    "    "
   ]
  },
  {
   "cell_type": "code",
   "execution_count": 16,
   "id": "27155fcb",
   "metadata": {},
   "outputs": [
    {
     "name": "stderr",
     "output_type": "stream",
     "text": [
      "Loading Data: 100%|\u001b[38;2;38;182;156m██████████████████████████████████████████████████████████████████████████████\u001b[0m| 1/1 [00:00<?, ?it/s]\u001b[0m\n"
     ]
    }
   ],
   "source": [
    "# Loading Data\n",
    "\n",
    "for i in tqdm(range(0, 1), desc =\"Loading Data\", colour=\"#26B69C\"):\n",
    "    train=CreditTrainDataset(x_train,y_train)\n",
    "    train_data=DataLoader(dataset=train,batch_size=5)\n",
    "    test=CreditTestDataset(x_test,y_test)\n",
    "    test_data=DataLoader(dataset=test,batch_size=2)"
   ]
  },
  {
   "cell_type": "code",
   "execution_count": 23,
   "id": "a90190e7",
   "metadata": {},
   "outputs": [],
   "source": [
    "# Defining Model\n",
    "\n",
    "class CreditNet(nn.Module):\n",
    "    def __init__(self,input_size,output_size):\n",
    "        super().__init__()\n",
    "        self.hidden_size=500\n",
    "        self.input_size=input_size\n",
    "        self.output_size=output_size\n",
    "        self.linear1=nn.Linear(self.input_size,self.hidden_size)\n",
    "        self.linear2=nn.Linear(self.hidden_size,self.output_size)\n",
    "        \n",
    "    def forward(self,x_train):\n",
    "        out=self.linear1(x_train)\n",
    "        out=F.relu(out)\n",
    "        out=self.linear2(out)\n",
    "        out=torch.sigmoid(out)\n",
    "        return out"
   ]
  },
  {
   "cell_type": "code",
   "execution_count": 31,
   "id": "719bc6ac",
   "metadata": {},
   "outputs": [],
   "source": [
    "# Model Parameters\n",
    "\n",
    "device=torch.device(\"cuda\")\n",
    "learning_rate=0.5\n",
    "nepochs=10\n",
    "input_size=x_train.shape[1]\n",
    "output_size=2\n",
    "\n",
    "model=CreditNet(input_size,output_size).to(device)\n",
    "optimizer = optim.SGD(model.parameters(), lr=learning_rate)\n",
    "LossFunction = nn.MSELoss()"
   ]
  },
  {
   "cell_type": "code",
   "execution_count": 33,
   "id": "d56cf261",
   "metadata": {},
   "outputs": [
    {
     "name": "stderr",
     "output_type": "stream",
     "text": [
      "Epoch:   0%|\u001b[38;2;38;182;156m                                                                                    \u001b[0m| 0/10 [00:00<?, ?it/s]\u001b[0m\n",
      "iter:   0%|\u001b[38;2;38;182;156m                                                                                    \u001b[0m| 0/799 [00:00<?, ?it/s]\u001b[0m\u001b[A\n",
      "iter:  15%|\u001b[38;2;38;182;156m██████████▉                                                             \u001b[0m| 122/799 [00:00<00:00, 1216.73it/s]\u001b[0m\u001b[A\n",
      "iter:  32%|\u001b[38;2;38;182;156m███████████████████████▎                                                \u001b[0m| 259/799 [00:00<00:00, 1304.25it/s]\u001b[0m\u001b[A\n",
      "iter:  52%|\u001b[38;2;38;182;156m█████████████████████████████████████▍                                  \u001b[0m| 416/799 [00:00<00:00, 1423.54it/s]\u001b[0m\u001b[A\n",
      "iter: 100%|\u001b[38;2;38;182;156m████████████████████████████████████████████████████████████████████████\u001b[0m| 799/799 [00:00<00:00, 1736.06it/s]\u001b[0m\u001b[A\n",
      "Epoch:  10%|\u001b[38;2;38;182;156m███████▌                                                                    \u001b[0m| 1/10 [00:00<00:04,  2.16it/s]\u001b[0m"
     ]
    },
    {
     "name": "stdout",
     "output_type": "stream",
     "text": [
      "Epoch 0: loss: 1.2358890300046e-10\n"
     ]
    },
    {
     "name": "stderr",
     "output_type": "stream",
     "text": [
      "\n",
      "iter:   0%|\u001b[38;2;38;182;156m                                                                                    \u001b[0m| 0/799 [00:00<?, ?it/s]\u001b[0m\u001b[A\n",
      "iter:  34%|\u001b[38;2;38;182;156m████████████████████████▌                                               \u001b[0m| 273/799 [00:00<00:00, 2728.54it/s]\u001b[0m\u001b[A\n",
      "iter: 100%|\u001b[38;2;38;182;156m████████████████████████████████████████████████████████████████████████\u001b[0m| 799/799 [00:00<00:00, 2795.52it/s]\u001b[0m\u001b[A\n",
      "Epoch:  20%|\u001b[38;2;38;182;156m███████████████▏                                                            \u001b[0m| 2/10 [00:00<00:02,  2.79it/s]\u001b[0m"
     ]
    },
    {
     "name": "stdout",
     "output_type": "stream",
     "text": [
      "Epoch 1: loss: 1.3809856036495205e-11\n"
     ]
    },
    {
     "name": "stderr",
     "output_type": "stream",
     "text": [
      "\n",
      "iter:   0%|\u001b[38;2;38;182;156m                                                                                    \u001b[0m| 0/799 [00:00<?, ?it/s]\u001b[0m\u001b[A\n",
      "iter:  36%|\u001b[38;2;38;182;156m██████████████████████████▏                                             \u001b[0m| 290/799 [00:00<00:00, 2891.87it/s]\u001b[0m\u001b[A\n",
      "iter: 100%|\u001b[38;2;38;182;156m████████████████████████████████████████████████████████████████████████\u001b[0m| 799/799 [00:00<00:00, 2727.07it/s]\u001b[0m\u001b[A\n",
      "Epoch:  30%|\u001b[38;2;38;182;156m██████████████████████▊                                                     \u001b[0m| 3/10 [00:01<00:02,  3.03it/s]\u001b[0m"
     ]
    },
    {
     "name": "stdout",
     "output_type": "stream",
     "text": [
      "Epoch 2: loss: 5.184815771164253e-11\n"
     ]
    },
    {
     "name": "stderr",
     "output_type": "stream",
     "text": [
      "\n",
      "iter:   0%|\u001b[38;2;38;182;156m                                                                                    \u001b[0m| 0/799 [00:00<?, ?it/s]\u001b[0m\u001b[A\n",
      "iter:  35%|\u001b[38;2;38;182;156m█████████████████████████▏                                              \u001b[0m| 279/799 [00:00<00:00, 2784.25it/s]\u001b[0m\u001b[A\n",
      "iter: 100%|\u001b[38;2;38;182;156m████████████████████████████████████████████████████████████████████████\u001b[0m| 799/799 [00:00<00:00, 2760.91it/s]\u001b[0m\u001b[A\n",
      "Epoch:  40%|\u001b[38;2;38;182;156m██████████████████████████████▍                                             \u001b[0m| 4/10 [00:01<00:01,  3.18it/s]\u001b[0m"
     ]
    },
    {
     "name": "stdout",
     "output_type": "stream",
     "text": [
      "Epoch 3: loss: 1.0605073405816484e-13\n"
     ]
    },
    {
     "name": "stderr",
     "output_type": "stream",
     "text": [
      "\n",
      "iter:   0%|\u001b[38;2;38;182;156m                                                                                    \u001b[0m| 0/799 [00:00<?, ?it/s]\u001b[0m\u001b[A\n",
      "iter:  35%|\u001b[38;2;38;182;156m████████████████████████▉                                               \u001b[0m| 277/799 [00:00<00:00, 2759.97it/s]\u001b[0m\u001b[A\n",
      "iter: 100%|\u001b[38;2;38;182;156m████████████████████████████████████████████████████████████████████████\u001b[0m| 799/799 [00:00<00:00, 2517.56it/s]\u001b[0m\u001b[A\n",
      "Epoch:  50%|\u001b[38;2;38;182;156m██████████████████████████████████████                                      \u001b[0m| 5/10 [00:01<00:01,  3.17it/s]\u001b[0m"
     ]
    },
    {
     "name": "stdout",
     "output_type": "stream",
     "text": [
      "Epoch 4: loss: 3.0112240825830305e-13\n"
     ]
    },
    {
     "name": "stderr",
     "output_type": "stream",
     "text": [
      "\n",
      "iter:   0%|\u001b[38;2;38;182;156m                                                                                    \u001b[0m| 0/799 [00:00<?, ?it/s]\u001b[0m\u001b[A\n",
      "iter:  34%|\u001b[38;2;38;182;156m████████████████████████▊                                               \u001b[0m| 275/799 [00:00<00:00, 2740.12it/s]\u001b[0m\u001b[A\n",
      "iter: 100%|\u001b[38;2;38;182;156m████████████████████████████████████████████████████████████████████████\u001b[0m| 799/799 [00:00<00:00, 2786.64it/s]\u001b[0m\u001b[A\n",
      "Epoch:  60%|\u001b[38;2;38;182;156m█████████████████████████████████████████████▌                              \u001b[0m| 6/10 [00:01<00:01,  3.26it/s]\u001b[0m"
     ]
    },
    {
     "name": "stdout",
     "output_type": "stream",
     "text": [
      "Epoch 5: loss: 2.0861682454626938e-15\n"
     ]
    },
    {
     "name": "stderr",
     "output_type": "stream",
     "text": [
      "\n",
      "iter:   0%|\u001b[38;2;38;182;156m                                                                                    \u001b[0m| 0/799 [00:00<?, ?it/s]\u001b[0m\u001b[A\n",
      "iter:  35%|\u001b[38;2;38;182;156m█████████████████████████▌                                              \u001b[0m| 283/799 [00:00<00:00, 2817.40it/s]\u001b[0m\u001b[A\n",
      "iter: 100%|\u001b[38;2;38;182;156m████████████████████████████████████████████████████████████████████████\u001b[0m| 799/799 [00:00<00:00, 2667.13it/s]\u001b[0m\u001b[A\n",
      "Epoch:  70%|\u001b[38;2;38;182;156m█████████████████████████████████████████████████████▏                      \u001b[0m| 7/10 [00:02<00:00,  3.28it/s]\u001b[0m"
     ]
    },
    {
     "name": "stdout",
     "output_type": "stream",
     "text": [
      "Epoch 6: loss: 2.466262845598273e-15\n"
     ]
    },
    {
     "name": "stderr",
     "output_type": "stream",
     "text": [
      "\n",
      "iter:   0%|\u001b[38;2;38;182;156m                                                                                    \u001b[0m| 0/799 [00:00<?, ?it/s]\u001b[0m\u001b[A\n",
      "iter:  28%|\u001b[38;2;38;182;156m███████████████████▉                                                    \u001b[0m| 221/799 [00:00<00:00, 2181.14it/s]\u001b[0m\u001b[A\n",
      "iter:  60%|\u001b[38;2;38;182;156m███████████████████████████████████████████▎                            \u001b[0m| 481/799 [00:00<00:00, 2421.08it/s]\u001b[0m\u001b[A\n",
      "iter: 100%|\u001b[38;2;38;182;156m████████████████████████████████████████████████████████████████████████\u001b[0m| 799/799 [00:00<00:00, 2463.59it/s]\u001b[0m\u001b[A\n",
      "Epoch:  80%|\u001b[38;2;38;182;156m████████████████████████████████████████████████████████████▊               \u001b[0m| 8/10 [00:02<00:00,  3.21it/s]\u001b[0m"
     ]
    },
    {
     "name": "stdout",
     "output_type": "stream",
     "text": [
      "Epoch 7: loss: 2.6912290789166213e-15\n"
     ]
    },
    {
     "name": "stderr",
     "output_type": "stream",
     "text": [
      "\n",
      "iter:   0%|\u001b[38;2;38;182;156m                                                                                    \u001b[0m| 0/799 [00:00<?, ?it/s]\u001b[0m\u001b[A\n",
      "iter:  30%|\u001b[38;2;38;182;156m█████████████████████▉                                                  \u001b[0m| 243/799 [00:00<00:00, 2422.09it/s]\u001b[0m\u001b[A\n",
      "iter:  62%|\u001b[38;2;38;182;156m████████████████████████████████████████████▌                           \u001b[0m| 495/799 [00:00<00:00, 2478.52it/s]\u001b[0m\u001b[A\n",
      "iter: 100%|\u001b[38;2;38;182;156m████████████████████████████████████████████████████████████████████████\u001b[0m| 799/799 [00:00<00:00, 2496.36it/s]\u001b[0m\u001b[A\n",
      "Epoch:  90%|\u001b[38;2;38;182;156m████████████████████████████████████████████████████████████████████▍       \u001b[0m| 9/10 [00:02<00:00,  3.17it/s]\u001b[0m"
     ]
    },
    {
     "name": "stdout",
     "output_type": "stream",
     "text": [
      "Epoch 8: loss: 2.8427783080152294e-15\n"
     ]
    },
    {
     "name": "stderr",
     "output_type": "stream",
     "text": [
      "\n",
      "iter:   0%|\u001b[38;2;38;182;156m                                                                                    \u001b[0m| 0/799 [00:00<?, ?it/s]\u001b[0m\u001b[A\n",
      "iter:  26%|\u001b[38;2;38;182;156m██████████████████▍                                                     \u001b[0m| 205/799 [00:00<00:00, 2043.33it/s]\u001b[0m\u001b[A\n",
      "iter:  56%|\u001b[38;2;38;182;156m████████████████████████████████████████                                \u001b[0m| 445/799 [00:00<00:00, 2248.54it/s]\u001b[0m\u001b[A\n",
      "iter: 100%|\u001b[38;2;38;182;156m████████████████████████████████████████████████████████████████████████\u001b[0m| 799/799 [00:00<00:00, 2409.98it/s]\u001b[0m\u001b[A\n",
      "Epoch: 100%|\u001b[38;2;38;182;156m███████████████████████████████████████████████████████████████████████████\u001b[0m| 10/10 [00:03<00:00,  3.10it/s]\u001b[0m"
     ]
    },
    {
     "name": "stdout",
     "output_type": "stream",
     "text": [
      "Epoch 9: loss: 2.9724029363071072e-15\n"
     ]
    },
    {
     "name": "stderr",
     "output_type": "stream",
     "text": [
      "\n"
     ]
    }
   ],
   "source": [
    "#Traning Model\n",
    "\n",
    "loss_history = []\n",
    "for epoch in tqdm(range(nepochs),desc=\"Epoch\",colour=\"#26B69C\"):\n",
    "    for (data,label) in tqdm(train,desc=\"iter\",colour=\"#26B69C\"):\n",
    "        optimizer.zero_grad()\n",
    "        data = data.to(device)\n",
    "        label = label.to(device)\n",
    "        out = model(data)\n",
    "        loss = LossFunction(out, label)\n",
    "        loss.backward()\n",
    "        optimizer.step()\n",
    "        loss_history.append(loss.item())\n",
    "    print(f\"Epoch {epoch}: loss: {loss.item()}\")"
   ]
  },
  {
   "cell_type": "code",
   "execution_count": null,
   "id": "cf774c1c",
   "metadata": {},
   "outputs": [],
   "source": []
  }
 ],
 "metadata": {
  "kernelspec": {
   "display_name": "Python 3 (ipykernel)",
   "language": "python",
   "name": "python3"
  },
  "language_info": {
   "codemirror_mode": {
    "name": "ipython",
    "version": 3
   },
   "file_extension": ".py",
   "mimetype": "text/x-python",
   "name": "python",
   "nbconvert_exporter": "python",
   "pygments_lexer": "ipython3",
   "version": "3.9.9"
  },
  "varInspector": {
   "cols": {
    "lenName": 16,
    "lenType": 16,
    "lenVar": 40
   },
   "kernels_config": {
    "python": {
     "delete_cmd_postfix": "",
     "delete_cmd_prefix": "del ",
     "library": "var_list.py",
     "varRefreshCmd": "print(var_dic_list())"
    },
    "r": {
     "delete_cmd_postfix": ") ",
     "delete_cmd_prefix": "rm(",
     "library": "var_list.r",
     "varRefreshCmd": "cat(var_dic_list()) "
    }
   },
   "position": {
    "height": "657.844px",
    "left": "1853px",
    "right": "20px",
    "top": "17px",
    "width": "352px"
   },
   "types_to_exclude": [
    "module",
    "function",
    "builtin_function_or_method",
    "instance",
    "_Feature"
   ],
   "window_display": true
  }
 },
 "nbformat": 4,
 "nbformat_minor": 5
}

{
 "cells": [
  {
   "cell_type": "code",
   "execution_count": 180,
   "id": "579a9805",
   "metadata": {},
   "outputs": [],
   "source": [
    "# Various Imports\n",
    "\n",
    "import pandas as pd\n",
    "import numpy as np\n",
    "import torch\n",
    "import torchvision\n",
    "import torch.nn as nn\n",
    "import torch.nn.functional as F\n",
    "import torch.optim as optim\n",
    "import matplotlib.pyplot as plt\n",
    "from tqdm import tqdm\n",
    "from time import sleep\n",
    "from torch.utils.data import DataLoader\n",
    "from torch.utils.data import Dataset\n",
    "from torchvision.transforms import ToTensor\n",
    "from sklearn.model_selection import train_test_split\n",
    "from sklearn.preprocessing import StandardScaler"
   ]
  },
  {
   "cell_type": "code",
   "execution_count": 181,
   "id": "21973f45",
   "metadata": {},
   "outputs": [
    {
     "name": "stderr",
     "output_type": "stream",
     "text": [
      "Pre-processing Data: 100%|\u001b[38;2;53;175;146m███████████████████████████████████████████████████████████████\u001b[0m| 1/1 [00:02<00:00,  2.52s/it]\u001b[0m\n"
     ]
    }
   ],
   "source": [
    "# Preprocessing Data \n",
    "\n",
    "for i in tqdm(range(0, 1), desc =\"Pre-processing Data\", colour=\"#35AF92\"):\n",
    "    data=pd.read_csv(\"D:/chrome download/credit data/application_train.csv\",skiprows=1).dropna(axis=1)\n",
    "    data=pd.get_dummies(data)\n",
    "    sdtr=StandardScaler()\n",
    "    start_row=1\n",
    "    end_row=100000\n",
    "    x_train,x_test,y_train,y_test=train_test_split(data.iloc[:,2:],data.iloc[:,1],test_size=0.2,random_state=0)\n",
    "        \n",
    "    x_train=sdtr.fit_transform(x_train)\n",
    "    x_test=sdtr.transform(x_test)\n",
    "\n",
    "    y_train=y_train.to_numpy()\n",
    "    y_test=y_test.to_numpy()\n",
    "\n",
    "    x_train=torch.from_numpy(x_train.astype(np.float32))\n",
    "    y_train=torch.from_numpy(y_train.astype(np.float32))\n",
    "    x_test=torch.from_numpy(x_test.astype(np.float32))\n",
    "    y_test=torch.from_numpy(y_test.astype(np.float32))\n",
    "\n",
    "    y_train=y_train.view(y_train.shape[0],1)\n",
    "    y_test=y_test.view(y_test.shape[0],1)"
   ]
  },
  {
   "cell_type": "code",
   "execution_count": 182,
   "id": "c41f091f",
   "metadata": {},
   "outputs": [
    {
     "name": "stdout",
     "output_type": "stream",
     "text": [
      "torch.Size([246008, 142])\n"
     ]
    }
   ],
   "source": [
    "# Defining Dataset\n",
    "\n",
    "class CreditTrainDataset(Dataset):\n",
    "    def __init__(self,x_train,y_train):   \n",
    "        self.x_train=x_train\n",
    "        self.y_train=y_train\n",
    "        \n",
    "    def __getitem__(self,index):\n",
    "        return self.x_train[index],self.y_train[index]\n",
    "    \n",
    "    def __len__(self):\n",
    "        return self.x_train.shape[0]\n",
    "\n",
    "    \n",
    "class CreditTestDataset(Dataset):\n",
    "    def __init__(self,x_test,y_test):\n",
    "        self.x_test=x_test\n",
    "        self.y_test=y_test\n",
    "        \n",
    "    def __getitem__(self,index):\n",
    "        return self.x_test[index],self.y_test[index]\n",
    "    \n",
    "    def __len__(self):\n",
    "        return self.x_test.shape[0]\n",
    "\n",
    "print(x_train.shape)"
   ]
  },
  {
   "cell_type": "code",
   "execution_count": 183,
   "id": "27155fcb",
   "metadata": {},
   "outputs": [
    {
     "name": "stderr",
     "output_type": "stream",
     "text": [
      "Loading Data: 100%|\u001b[38;2;38;182;156m█████████████████████████████████████████████████████████████████████\u001b[0m| 1/1 [00:00<00:00, 223.71it/s]\u001b[0m\n"
     ]
    }
   ],
   "source": [
    "# Loading Data\n",
    "\n",
    "for i in tqdm(range(0, 1), desc =\"Loading Data\", colour=\"#26B69C\"):\n",
    "    train=CreditTrainDataset(x_train,y_train)\n",
    "    train_data=DataLoader(dataset=train,batch_size=1)\n",
    "    test=CreditTestDataset(x_test,y_test)\n",
    "    test_data=DataLoader(dataset=test,batch_size=1)"
   ]
  },
  {
   "cell_type": "code",
   "execution_count": 184,
   "id": "a90190e7",
   "metadata": {},
   "outputs": [],
   "source": [
    "# Defining Model\n",
    "\n",
    "class CreditNet(nn.Module):\n",
    "    def __init__(self,input_size,output_size):\n",
    "        super().__init__()\n",
    "        self.hidden_size=500\n",
    "        self.input_size=input_size\n",
    "        self.output_size=output_size\n",
    "        self.linear1=nn.Linear(self.input_size,self.hidden_size)\n",
    "        self.linear2=nn.Linear(self.hidden_size,self.output_size)\n",
    "        \n",
    "    def forward(self,x_train):\n",
    "        out=self.linear1(x_train)\n",
    "        out=F.relu(out)\n",
    "        out=self.linear2(out)\n",
    "        out=torch.sigmoid(out)\n",
    "        return out"
   ]
  },
  {
   "cell_type": "code",
   "execution_count": null,
   "id": "719bc6ac",
   "metadata": {},
   "outputs": [],
   "source": [
    "# Model Parameters\n",
    "\n",
    "device=torch.device(\"cuda\")\n",
    "nepochs=10\n",
    "input_size=x_train.shape[1]\n",
    "output_size=1\n",
    "learning_rate=0.3\n",
    "\n",
    "model=CreditNet(input_size,output_size).to(device)\n",
    "optimizer = optim.SGD(model.parameters(), lr=learning_rate)\n",
    "LossFunction = nn.MSELoss()"
   ]
  },
  {
   "cell_type": "code",
   "execution_count": null,
   "id": "d56cf261",
   "metadata": {
    "scrolled": true
   },
   "outputs": [],
   "source": [
    "#Traning Model\n",
    "\n",
    "loss_history = []\n",
    "for epoch in tqdm(range(nepochs),desc=\"Epoch\",colour=\"#26B69C\"):\n",
    "    for data,label in tqdm(train,colour=\"#26B69C\",mininterval=5):\n",
    "        optimizer.zero_grad()\n",
    "        data = data.to(device)\n",
    "        label = label.to(device).view(-1,1)\n",
    "        out = model(data).view(-1,1)\n",
    "        loss = LossFunction(out,label)\n",
    "        loss.backward()\n",
    "        optimizer.step()\n",
    "        loss_history.append(loss.item())\n",
    "    print(out,label)\n",
    "    print(f\"Epoch {epoch}: loss: {loss.item()}\")"
   ]
  },
  {
   "cell_type": "code",
   "execution_count": null,
   "id": "cf774c1c",
   "metadata": {},
   "outputs": [],
   "source": []
  },
  {
   "cell_type": "code",
   "execution_count": null,
   "id": "b269a134",
   "metadata": {},
   "outputs": [],
   "source": []
  }
 ],
 "metadata": {
  "kernelspec": {
   "display_name": "Python 3 (ipykernel)",
   "language": "python",
   "name": "python3"
  },
  "language_info": {
   "codemirror_mode": {
    "name": "ipython",
    "version": 3
   },
   "file_extension": ".py",
   "mimetype": "text/x-python",
   "name": "python",
   "nbconvert_exporter": "python",
   "pygments_lexer": "ipython3",
   "version": "3.9.9"
  },
  "varInspector": {
   "cols": {
    "lenName": 16,
    "lenType": 16,
    "lenVar": 40
   },
   "kernels_config": {
    "python": {
     "delete_cmd_postfix": "",
     "delete_cmd_prefix": "del ",
     "library": "var_list.py",
     "varRefreshCmd": "print(var_dic_list())"
    },
    "r": {
     "delete_cmd_postfix": ") ",
     "delete_cmd_prefix": "rm(",
     "library": "var_list.r",
     "varRefreshCmd": "cat(var_dic_list()) "
    }
   },
   "position": {
    "height": "657.844px",
    "left": "1853px",
    "right": "20px",
    "top": "17px",
    "width": "352px"
   },
   "types_to_exclude": [
    "module",
    "function",
    "builtin_function_or_method",
    "instance",
    "_Feature"
   ],
   "window_display": true
  }
 },
 "nbformat": 4,
 "nbformat_minor": 5
}

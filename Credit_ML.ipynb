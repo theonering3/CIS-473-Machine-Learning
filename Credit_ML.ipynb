{
 "cells": [
  {
   "cell_type": "code",
   "execution_count": 2,
   "id": "579a9805",
   "metadata": {},
   "outputs": [],
   "source": [
    "# Various Imports\n",
    "\n",
    "import pandas as pd\n",
    "import numpy as np\n",
    "import os\n",
    "import cv2\n",
    "import timm\n",
    "import time\n",
    "import torch\n",
    "import torchvision\n",
    "import wandb\n",
    "import hiplot\n",
    "import neptune.new as neptune\n",
    "import torch.nn as nn\n",
    "import torch.nn.functional as F\n",
    "import torch.optim as optim\n",
    "import matplotlib.pyplot as plt\n",
    "import torchvision.transforms as transforms\n",
    "from tqdm import tqdm\n",
    "from torchsummary import summary\n",
    "from torch.utils.tensorboard import SummaryWriter\n",
    "from torchvision.datasets import CIFAR10\n",
    "from torch.utils.data import DataLoader\n",
    "from torch.utils.data import Dataset\n",
    "from torchvision.transforms import ToTensor\n",
    "from sklearn.model_selection import train_test_split\n",
    "from sklearn.preprocessing import StandardScaler"
   ]
  },
  {
   "cell_type": "code",
   "execution_count": 3,
   "id": "21973f45",
   "metadata": {},
   "outputs": [
    {
     "name": "stderr",
     "output_type": "stream",
     "text": [
      "Pre-processing Data: 100%|\u001b[38;2;53;175;146m███████████████████████████████████████████████████████████████\u001b[0m| 1/1 [00:02<00:00,  2.58s/it]\u001b[0m\n"
     ]
    }
   ],
   "source": [
    "# Preprocessing Data \n",
    "\n",
    "for i in tqdm(range(0, 1), desc =\"Pre-processing Data\", colour=\"#35AF92\"):\n",
    "    data=pd.read_csv(\"D:\\\\python\\\\CIS473\\\\CIS-473-Machine-Learning\\\\credit_data\\\\application_train.csv\",skiprows=1).dropna(axis=1)\n",
    "    data=pd.get_dummies(data)\n",
    "    sdtr=StandardScaler()\n",
    "    start_row=100000\n",
    "    end_row=100000\n",
    "    x_train,x_test,y_train,y_test=train_test_split(data.iloc[:,2:],data.iloc[:,1],test_size=0.2,random_state=0)\n",
    "        \n",
    "    x_train=sdtr.fit_transform(x_train)\n",
    "    x_test=sdtr.transform(x_test)\n",
    "\n",
    "    y_train=y_train.to_numpy()\n",
    "    y_test=y_test.to_numpy()\n",
    "\n",
    "    x_train=torch.from_numpy(x_train.astype(np.float32))\n",
    "    y_train=torch.from_numpy(y_train)\n",
    "    x_test=torch.from_numpy(x_test.astype(np.float32))\n",
    "    y_test=torch.from_numpy(y_test)\n",
    "\n",
    "    y_train=y_train.view(y_train.shape[0],1)\n",
    "    y_test=y_test.view(y_test.shape[0],1)"
   ]
  },
  {
   "cell_type": "code",
   "execution_count": 4,
   "id": "c41f091f",
   "metadata": {},
   "outputs": [
    {
     "name": "stdout",
     "output_type": "stream",
     "text": [
      "torch.Size([246008, 142])\n"
     ]
    }
   ],
   "source": [
    "# Defining Dataset\n",
    "\n",
    "class CreditDataset(Dataset):\n",
    "    def __init__(self,x,y):   \n",
    "        self.x=x\n",
    "        self.y=y\n",
    "        \n",
    "    def __getitem__(self,index):\n",
    "        return self.x[index],self.y[index]\n",
    "    \n",
    "    def __len__(self):\n",
    "        return self.x.shape[0]\n",
    "    \n",
    "print(x_train.shape)"
   ]
  },
  {
   "cell_type": "code",
   "execution_count": 5,
   "id": "27155fcb",
   "metadata": {},
   "outputs": [
    {
     "name": "stderr",
     "output_type": "stream",
     "text": [
      "Loading Data: 100%|\u001b[38;2;38;182;156m████████████████████████████████████████████████████████████████████\u001b[0m| 1/1 [00:00<00:00, 2002.05it/s]\u001b[0m\n"
     ]
    }
   ],
   "source": [
    "# Loading Data\n",
    "\n",
    "for i in tqdm(range(0, 1), desc =\"Loading Data\", colour=\"#26B69C\"):\n",
    "    train=CreditDataset(x_train,y_train)\n",
    "    train_data=DataLoader(dataset=train,batch_size=1)\n",
    "    test=CreditDataset(x_test,y_test)\n",
    "    test_data=DataLoader(dataset=test,batch_size=1)"
   ]
  },
  {
   "cell_type": "code",
   "execution_count": 6,
   "id": "a90190e7",
   "metadata": {},
   "outputs": [],
   "source": [
    "# Defining Model\n",
    "\n",
    "class CreditNet(nn.Module):\n",
    "    def __init__(self,input_size,output_size):\n",
    "        super().__init__()\n",
    "        self.hidden_size1=500\n",
    "        self.hidden_size2=800\n",
    "        self.hidden_size3=200\n",
    "        self.input_size=input_size\n",
    "        self.output_size=output_size\n",
    "        self.linear1=nn.Linear(self.input_size,self.hidden_size1)\n",
    "        self.linear2=nn.Linear(self.hidden_size1,self.hidden_size2)\n",
    "        self.linear3=nn.Linear(self.hidden_size2,self.hidden_size3)\n",
    "        self.linear4=nn.Linear(self.hidden_size3,self.output_size)\n",
    "        \n",
    "    def forward(self,x_train):\n",
    "        out=self.linear1(x_train)\n",
    "        out=F.relu(out)\n",
    "        out=self.linear2(out)\n",
    "        out=F.relu(out)\n",
    "        out=self.linear3(out)\n",
    "        out=F.relu(out)\n",
    "        out=self.linear4(out)\n",
    "        out=torch.sigmoid(out)\n",
    "        return out"
   ]
  },
  {
   "cell_type": "code",
   "execution_count": 7,
   "id": "719bc6ac",
   "metadata": {},
   "outputs": [],
   "source": [
    "# Model Parameters\n",
    "\n",
    "device=torch.device(\"cuda\")\n",
    "nepochs=10\n",
    "input_size=x_train.shape[1]\n",
    "output_size=2\n",
    "learning_rate=0.01\n",
    "\n",
    "model=CreditNet(input_size,output_size).to(device)\n",
    "optimizer = optim.SGD(model.parameters(), lr=learning_rate)\n",
    "LossFunction = nn.CrossEntropyLoss()"
   ]
  },
  {
   "cell_type": "code",
   "execution_count": null,
   "id": "d56cf261",
   "metadata": {
    "scrolled": true
   },
   "outputs": [
    {
     "name": "stderr",
     "output_type": "stream",
     "text": [
      "Epoch:   0%|\u001b[38;2;38;182;156m                                                                                    \u001b[0m| 0/10 [00:00<?, ?it/s]\u001b[0m\n",
      "  0%|\u001b[38;2;38;182;156m                                                                                       \u001b[0m| 0/246008 [00:00<?, ?it/s]\u001b[0m\u001b[A\n",
      " 10%|\u001b[38;2;38;182;156m██████▉                                                                  \u001b[0m| 23577/246008 [00:20<03:08, 1178.82it/s]\u001b[0m\u001b[A\n",
      " 10%|\u001b[38;2;38;182;156m██████▉                                                                  \u001b[0m| 23577/246008 [00:39<03:08, 1178.82it/s]\u001b[0m\u001b[A\n",
      " 21%|\u001b[38;2;38;182;156m███████████████                                                          \u001b[0m| 50820/246008 [00:40<02:31, 1286.64it/s]\u001b[0m\u001b[A\n",
      " 21%|\u001b[38;2;38;182;156m███████████████                                                          \u001b[0m| 50820/246008 [00:59<02:31, 1286.64it/s]\u001b[0m\u001b[A\n",
      " 32%|\u001b[38;2;38;182;156m███████████████████████                                                  \u001b[0m| 77762/246008 [01:00<02:08, 1314.23it/s]\u001b[0m\u001b[A\n",
      " 32%|\u001b[38;2;38;182;156m███████████████████████                                                  \u001b[0m| 77762/246008 [01:19<02:08, 1314.23it/s]\u001b[0m\u001b[A\n",
      " 42%|\u001b[38;2;38;182;156m██████████████████████████████                                          \u001b[0m| 102799/246008 [01:20<01:51, 1289.60it/s]\u001b[0m\u001b[A\n",
      " 42%|\u001b[38;2;38;182;156m██████████████████████████████                                          \u001b[0m| 102799/246008 [01:39<01:51, 1289.60it/s]\u001b[0m\u001b[A\n",
      " 52%|\u001b[38;2;38;182;156m█████████████████████████████████████▌                                  \u001b[0m| 128214/246008 [01:40<01:31, 1282.78it/s]\u001b[0m\u001b[A\n",
      " 52%|\u001b[38;2;38;182;156m█████████████████████████████████████▌                                  \u001b[0m| 128214/246008 [01:59<01:31, 1282.78it/s]\u001b[0m\u001b[A\n",
      " 62%|\u001b[38;2;38;182;156m████████████████████████████████████████████▉                           \u001b[0m| 153513/246008 [02:00<01:12, 1276.71it/s]\u001b[0m\u001b[A\n",
      " 62%|\u001b[38;2;38;182;156m████████████████████████████████████████████▉                           \u001b[0m| 153513/246008 [02:19<01:12, 1276.71it/s]\u001b[0m\u001b[A\n",
      " 73%|\u001b[38;2;38;182;156m████████████████████████████████████████████████████▋                   \u001b[0m| 180079/246008 [02:20<00:50, 1293.56it/s]\u001b[0m\u001b[A\n",
      " 73%|\u001b[38;2;38;182;156m████████████████████████████████████████████████████▋                   \u001b[0m| 180079/246008 [02:39<00:50, 1293.56it/s]\u001b[0m\u001b[A\n",
      " 84%|\u001b[38;2;38;182;156m████████████████████████████████████████████████████████████▍           \u001b[0m| 206397/246008 [02:40<00:30, 1300.66it/s]\u001b[0m\u001b[A\n",
      " 84%|\u001b[38;2;38;182;156m████████████████████████████████████████████████████████████▍           \u001b[0m| 206397/246008 [02:59<00:30, 1300.66it/s]\u001b[0m\u001b[A\n",
      "100%|\u001b[38;2;38;182;156m████████████████████████████████████████████████████████████████████████\u001b[0m| 246008/246008 [03:10<00:00, 1292.42it/s]\u001b[0m\u001b[A\n",
      "Epoch:  10%|\u001b[38;2;38;182;156m███████▌                                                                   \u001b[0m| 1/10 [03:10<28:33, 190.35s/it]\u001b[0m"
     ]
    },
    {
     "name": "stdout",
     "output_type": "stream",
     "text": [
      "tensor([[9.9995e-01, 4.6802e-05]], device='cuda:0', grad_fn=<ViewBackward0>) tensor([0], device='cuda:0')\n",
      "Epoch 0: loss: 0.3132866621017456\n"
     ]
    },
    {
     "name": "stderr",
     "output_type": "stream",
     "text": [
      "\n",
      "  0%|\u001b[38;2;38;182;156m                                                                                       \u001b[0m| 0/246008 [00:00<?, ?it/s]\u001b[0m\u001b[A\n",
      " 10%|\u001b[38;2;38;182;156m███████▍                                                                 \u001b[0m| 24923/246008 [00:20<02:57, 1246.15it/s]\u001b[0m\u001b[A\n",
      " 10%|\u001b[38;2;38;182;156m███████▍                                                                 \u001b[0m| 24923/246008 [00:39<02:57, 1246.15it/s]\u001b[0m\u001b[A\n",
      " 21%|\u001b[38;2;38;182;156m███████████████                                                          \u001b[0m| 50622/246008 [00:40<02:33, 1268.95it/s]\u001b[0m\u001b[A\n",
      " 21%|\u001b[38;2;38;182;156m███████████████                                                          \u001b[0m| 50622/246008 [00:59<02:33, 1268.95it/s]\u001b[0m\u001b[A\n",
      " 31%|\u001b[38;2;38;182;156m██████████████████████▉                                                  \u001b[0m| 77146/246008 [01:00<02:10, 1295.06it/s]\u001b[0m\u001b[A\n",
      " 31%|\u001b[38;2;38;182;156m██████████████████████▉                                                  \u001b[0m| 77146/246008 [01:19<02:10, 1295.06it/s]\u001b[0m\u001b[A\n",
      " 41%|\u001b[38;2;38;182;156m█████████████████████████████▋                                          \u001b[0m| 101495/246008 [01:20<01:54, 1264.42it/s]\u001b[0m\u001b[A\n",
      " 41%|\u001b[38;2;38;182;156m█████████████████████████████▋                                          \u001b[0m| 101495/246008 [01:39<01:54, 1264.42it/s]\u001b[0m\u001b[A\n",
      " 51%|\u001b[38;2;38;182;156m████████████████████████████████████▋                                   \u001b[0m| 125159/246008 [01:40<01:37, 1235.12it/s]\u001b[0m\u001b[A\n",
      " 51%|\u001b[38;2;38;182;156m████████████████████████████████████▋                                   \u001b[0m| 125159/246008 [01:59<01:37, 1235.12it/s]\u001b[0m\u001b[A\n",
      " 61%|\u001b[38;2;38;182;156m███████████████████████████████████████████▌                            \u001b[0m| 148960/246008 [02:00<01:19, 1219.80it/s]\u001b[0m\u001b[A\n",
      " 61%|\u001b[38;2;38;182;156m███████████████████████████████████████████▌                            \u001b[0m| 148960/246008 [02:19<01:19, 1219.80it/s]\u001b[0m\u001b[A\n",
      " 70%|\u001b[38;2;38;182;156m██████████████████████████████████████████████████▍                     \u001b[0m| 172209/246008 [02:20<01:01, 1201.05it/s]\u001b[0m\u001b[A\n",
      " 70%|\u001b[38;2;38;182;156m██████████████████████████████████████████████████▍                     \u001b[0m| 172209/246008 [02:39<01:01, 1201.05it/s]\u001b[0m\u001b[A\n",
      " 79%|\u001b[38;2;38;182;156m█████████████████████████████████████████████████████████▏              \u001b[0m| 195393/246008 [02:40<00:42, 1187.72it/s]\u001b[0m\u001b[A\n",
      " 79%|\u001b[38;2;38;182;156m█████████████████████████████████████████████████████████▏              \u001b[0m| 195393/246008 [02:59<00:42, 1187.72it/s]\u001b[0m\u001b[A\n",
      " 89%|\u001b[38;2;38;182;156m████████████████████████████████████████████████████████████████▎       \u001b[0m| 219866/246008 [03:00<00:21, 1198.94it/s]\u001b[0m\u001b[A\n",
      " 89%|\u001b[38;2;38;182;156m████████████████████████████████████████████████████████████████▎       \u001b[0m| 219866/246008 [03:19<00:21, 1198.94it/s]\u001b[0m\u001b[A\n",
      "100%|\u001b[38;2;38;182;156m████████████████████████████████████████████████████████████████████████\u001b[0m| 246008/246008 [03:28<00:00, 1179.78it/s]\u001b[0m\u001b[A\n",
      "Epoch:  20%|\u001b[38;2;38;182;156m███████████████                                                            \u001b[0m| 2/10 [06:38<26:48, 201.04s/it]\u001b[0m"
     ]
    },
    {
     "name": "stdout",
     "output_type": "stream",
     "text": [
      "tensor([[9.9998e-01, 2.1922e-05]], device='cuda:0', grad_fn=<ViewBackward0>) tensor([0], device='cuda:0')\n",
      "Epoch 1: loss: 0.3132734000682831\n"
     ]
    },
    {
     "name": "stderr",
     "output_type": "stream",
     "text": [
      "\n",
      "  0%|\u001b[38;2;38;182;156m                                                                                       \u001b[0m| 0/246008 [00:00<?, ?it/s]\u001b[0m\u001b[A\n",
      " 11%|\u001b[38;2;38;182;156m███████▊                                                                 \u001b[0m| 26501/246008 [00:20<02:45, 1325.02it/s]\u001b[0m\u001b[A\n",
      " 11%|\u001b[38;2;38;182;156m███████▊                                                                 \u001b[0m| 26501/246008 [00:30<02:45, 1325.02it/s]\u001b[0m\u001b[A\n",
      " 18%|\u001b[38;2;38;182;156m█████████████                                                            \u001b[0m| 43925/246008 [00:40<03:10, 1058.05it/s]\u001b[0m\u001b[A\n",
      " 18%|\u001b[38;2;38;182;156m█████████████                                                            \u001b[0m| 43925/246008 [00:50<03:10, 1058.05it/s]\u001b[0m\u001b[A\n",
      " 26%|\u001b[38;2;38;182;156m██████████████████▋                                                      \u001b[0m| 63027/246008 [01:00<03:00, 1011.03it/s]\u001b[0m\u001b[A\n",
      " 26%|\u001b[38;2;38;182;156m██████████████████▋                                                      \u001b[0m| 63027/246008 [01:10<03:00, 1011.03it/s]\u001b[0m\u001b[A\n",
      " 36%|\u001b[38;2;38;182;156m██████████████████████████▏                                              \u001b[0m| 88383/246008 [01:20<02:21, 1112.40it/s]\u001b[0m\u001b[A\n",
      " 36%|\u001b[38;2;38;182;156m██████████████████████████▏                                              \u001b[0m| 88383/246008 [01:30<02:21, 1112.40it/s]\u001b[0m\u001b[A\n",
      " 46%|\u001b[38;2;38;182;156m█████████████████████████████████▎                                      \u001b[0m| 113943/246008 [01:40<01:52, 1172.12it/s]\u001b[0m\u001b[A\n",
      " 46%|\u001b[38;2;38;182;156m█████████████████████████████████▎                                      \u001b[0m| 113943/246008 [01:51<01:52, 1172.12it/s]\u001b[0m\u001b[A\n",
      " 56%|\u001b[38;2;38;182;156m████████████████████████████████████████▏                               \u001b[0m| 137519/246008 [02:00<01:32, 1174.38it/s]\u001b[0m\u001b[A\n",
      " 56%|\u001b[38;2;38;182;156m████████████████████████████████████████▏                               \u001b[0m| 137519/246008 [02:11<01:32, 1174.38it/s]\u001b[0m\u001b[A\n",
      " 67%|\u001b[38;2;38;182;156m███████████████████████████████████████████████▉                        \u001b[0m| 163760/246008 [02:20<01:07, 1219.38it/s]\u001b[0m\u001b[A\n",
      " 67%|\u001b[38;2;38;182;156m███████████████████████████████████████████████▉                        \u001b[0m| 163760/246008 [02:31<01:07, 1219.38it/s]\u001b[0m\u001b[A\n",
      " 76%|\u001b[38;2;38;182;156m██████████████████████████████████████████████████████▍                 \u001b[0m| 186007/246008 [02:40<00:50, 1185.27it/s]\u001b[0m\u001b[A\n",
      " 76%|\u001b[38;2;38;182;156m██████████████████████████████████████████████████████▍                 \u001b[0m| 186007/246008 [02:51<00:50, 1185.27it/s]\u001b[0m\u001b[A\n",
      " 86%|\u001b[38;2;38;182;156m█████████████████████████████████████████████████████████████▋          \u001b[0m| 210754/246008 [03:00<00:29, 1201.54it/s]\u001b[0m\u001b[A\n",
      " 86%|\u001b[38;2;38;182;156m█████████████████████████████████████████████████████████████▋          \u001b[0m| 210754/246008 [03:11<00:29, 1201.54it/s]\u001b[0m\u001b[A\n",
      "100%|\u001b[38;2;38;182;156m████████████████████████████████████████████████████████████████████████\u001b[0m| 246008/246008 [03:26<00:00, 1188.69it/s]\u001b[0m\u001b[A\n",
      "Epoch:  30%|\u001b[38;2;38;182;156m██████████████████████▌                                                    \u001b[0m| 3/10 [10:05<23:46, 203.74s/it]\u001b[0m"
     ]
    },
    {
     "name": "stdout",
     "output_type": "stream",
     "text": [
      "tensor([[9.9999e-01, 1.4307e-05]], device='cuda:0', grad_fn=<ViewBackward0>) tensor([0], device='cuda:0')\n",
      "Epoch 2: loss: 0.31326931715011597\n"
     ]
    },
    {
     "name": "stderr",
     "output_type": "stream",
     "text": [
      "\n",
      "  0%|\u001b[38;2;38;182;156m                                                                                       \u001b[0m| 0/246008 [00:00<?, ?it/s]\u001b[0m\u001b[A\n",
      " 10%|\u001b[38;2;38;182;156m███████▎                                                                 \u001b[0m| 24613/246008 [00:20<02:59, 1230.62it/s]\u001b[0m\u001b[A\n",
      " 10%|\u001b[38;2;38;182;156m███████▎                                                                 \u001b[0m| 24613/246008 [00:34<02:59, 1230.62it/s]\u001b[0m\u001b[A\n",
      " 20%|\u001b[38;2;38;182;156m██████████████▍                                                          \u001b[0m| 48494/246008 [00:40<02:43, 1209.11it/s]\u001b[0m\u001b[A\n",
      " 20%|\u001b[38;2;38;182;156m██████████████▍                                                          \u001b[0m| 48494/246008 [00:54<02:43, 1209.11it/s]\u001b[0m\u001b[A\n",
      " 29%|\u001b[38;2;38;182;156m█████████████████████▎                                                   \u001b[0m| 71672/246008 [01:00<02:26, 1186.16it/s]\u001b[0m\u001b[A\n",
      " 29%|\u001b[38;2;38;182;156m█████████████████████▎                                                   \u001b[0m| 71672/246008 [01:14<02:26, 1186.16it/s]\u001b[0m\u001b[A\n",
      " 37%|\u001b[38;2;38;182;156m██████████████████████████▊                                              \u001b[0m| 90225/246008 [01:20<02:23, 1084.10it/s]\u001b[0m\u001b[A\n",
      " 37%|\u001b[38;2;38;182;156m██████████████████████████▊                                              \u001b[0m| 90225/246008 [01:34<02:23, 1084.10it/s]\u001b[0m\u001b[A\n",
      " 44%|\u001b[38;2;38;182;156m███████████████████████████████▊                                         \u001b[0m| 107067/246008 [01:40<02:19, 996.83it/s]\u001b[0m\u001b[A\n",
      " 44%|\u001b[38;2;38;182;156m███████████████████████████████▊                                         \u001b[0m| 107067/246008 [01:54<02:19, 996.83it/s]\u001b[0m\u001b[A\n",
      " 53%|\u001b[38;2;38;182;156m██████████████████████████████████████▍                                 \u001b[0m| 131374/246008 [02:00<01:47, 1071.11it/s]\u001b[0m\u001b[A\n",
      " 53%|\u001b[38;2;38;182;156m██████████████████████████████████████▍                                 \u001b[0m| 131374/246008 [02:14<01:47, 1071.11it/s]\u001b[0m\u001b[A\n",
      " 63%|\u001b[38;2;38;182;156m█████████████████████████████████████████████▌                          \u001b[0m| 155829/246008 [02:20<01:20, 1120.69it/s]\u001b[0m\u001b[A\n",
      " 63%|\u001b[38;2;38;182;156m█████████████████████████████████████████████▌                          \u001b[0m| 155829/246008 [02:34<01:20, 1120.69it/s]\u001b[0m\u001b[A\n",
      " 74%|\u001b[38;2;38;182;156m█████████████████████████████████████████████████████▍                  \u001b[0m| 182378/246008 [02:40<00:53, 1186.50it/s]\u001b[0m\u001b[A"
     ]
    }
   ],
   "source": [
    "#Traning Model\n",
    "\n",
    "loss_history = []\n",
    "for epoch in tqdm(range(nepochs),desc=\"Epoch\",colour=\"#26B69C\"):\n",
    "    for data,label in tqdm(train,colour=\"#26B69C\",mininterval=20):\n",
    "        optimizer.zero_grad()\n",
    "        data = data.to(device)\n",
    "        label = label.to(device)\n",
    "        out = model(data).view(1,-1)\n",
    "        #print(out,label)\n",
    "        loss = LossFunction(out,label)\n",
    "        loss.backward()\n",
    "        optimizer.step()\n",
    "        loss_history.append(loss.item())\n",
    "    print(out,label)\n",
    "    print(f\"Epoch {epoch}: loss: {loss.item()}\")"
   ]
  },
  {
   "cell_type": "code",
   "execution_count": null,
   "id": "cf774c1c",
   "metadata": {},
   "outputs": [],
   "source": [
    "correct=0\n",
    "with torch.no_grad():\n",
    "    for data,label in tqdm(test,colour=\"#26B69C\",mininterval=20):\n",
    "        data = data.to(device)\n",
    "        label=label.to(device)\n",
    "        out=model(data)\n",
    "        pred=torch.argmax(out)\n",
    "        if pred==label:\n",
    "            correct+=1\n",
    "print(\"Accuracy:\",round(correct/len(test),3))"
   ]
  },
  {
   "cell_type": "code",
   "execution_count": null,
   "id": "72a76b4b",
   "metadata": {},
   "outputs": [],
   "source": [
    "FILE=\"D:\\\\python\\\\CIS473\\\\CIS-473-Machine-Learning\\\\credit_data\\\\models\\\\model.pth\"\n",
    "torch.save(model,FILE)"
   ]
  }
 ],
 "metadata": {
  "kernelspec": {
   "display_name": "Python 3 (ipykernel)",
   "language": "python",
   "name": "python3"
  },
  "language_info": {
   "codemirror_mode": {
    "name": "ipython",
    "version": 3
   },
   "file_extension": ".py",
   "mimetype": "text/x-python",
   "name": "python",
   "nbconvert_exporter": "python",
   "pygments_lexer": "ipython3",
   "version": "3.9.9"
  },
  "varInspector": {
   "cols": {
    "lenName": 16,
    "lenType": 16,
    "lenVar": 40
   },
   "kernels_config": {
    "python": {
     "delete_cmd_postfix": "",
     "delete_cmd_prefix": "del ",
     "library": "var_list.py",
     "varRefreshCmd": "print(var_dic_list())"
    },
    "r": {
     "delete_cmd_postfix": ") ",
     "delete_cmd_prefix": "rm(",
     "library": "var_list.r",
     "varRefreshCmd": "cat(var_dic_list()) "
    }
   },
   "position": {
    "height": "657.844px",
    "left": "1853px",
    "right": "20px",
    "top": "17px",
    "width": "352px"
   },
   "types_to_exclude": [
    "module",
    "function",
    "builtin_function_or_method",
    "instance",
    "_Feature"
   ],
   "window_display": true
  }
 },
 "nbformat": 4,
 "nbformat_minor": 5
}
